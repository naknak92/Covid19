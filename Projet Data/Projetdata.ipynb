{
 "cells": [
  {
   "cell_type": "code",
   "execution_count": 2,
   "metadata": {},
   "outputs": [],
   "source": [
    "import numpy as np\n",
    "import pandas as pd\n",
    "import matplotlib.pyplot as plt\n",
    "import seaborn as sns\n",
    "import plotly.express as px"
   ]
  },
  {
   "cell_type": "code",
   "execution_count": 3,
   "metadata": {},
   "outputs": [
    {
     "data": {
      "text/html": [
       "<div>\n",
       "<style scoped>\n",
       "    .dataframe tbody tr th:only-of-type {\n",
       "        vertical-align: middle;\n",
       "    }\n",
       "\n",
       "    .dataframe tbody tr th {\n",
       "        vertical-align: top;\n",
       "    }\n",
       "\n",
       "    .dataframe thead th {\n",
       "        text-align: right;\n",
       "    }\n",
       "</style>\n",
       "<table border=\"1\" class=\"dataframe\">\n",
       "  <thead>\n",
       "    <tr style=\"text-align: right;\">\n",
       "      <th></th>\n",
       "      <th>Country/Other</th>\n",
       "      <th>Total Cases</th>\n",
       "      <th>Total Deaths</th>\n",
       "      <th>Total Recovered</th>\n",
       "      <th>Active Cases</th>\n",
       "      <th>Tot Cases/ 1M pop</th>\n",
       "      <th>Deaths/ 1M pop</th>\n",
       "      <th>Total Tests</th>\n",
       "      <th>Tests/ 1M pop</th>\n",
       "      <th>Population</th>\n",
       "    </tr>\n",
       "  </thead>\n",
       "  <tbody>\n",
       "    <tr>\n",
       "      <th>0</th>\n",
       "      <td>Albania</td>\n",
       "      <td>334084</td>\n",
       "      <td>3595</td>\n",
       "      <td>328802.0</td>\n",
       "      <td>1687.0</td>\n",
       "      <td>116553</td>\n",
       "      <td>1254</td>\n",
       "      <td>1941032</td>\n",
       "      <td>677173</td>\n",
       "      <td>2866374</td>\n",
       "    </tr>\n",
       "    <tr>\n",
       "      <th>1</th>\n",
       "      <td>Andorra</td>\n",
       "      <td>47781</td>\n",
       "      <td>165</td>\n",
       "      <td>47563.0</td>\n",
       "      <td>53.0</td>\n",
       "      <td>616824</td>\n",
       "      <td>2130</td>\n",
       "      <td>249838</td>\n",
       "      <td>3225256</td>\n",
       "      <td>77463</td>\n",
       "    </tr>\n",
       "    <tr>\n",
       "      <th>2</th>\n",
       "      <td>Austria</td>\n",
       "      <td>5747540</td>\n",
       "      <td>21589</td>\n",
       "      <td>5702341.0</td>\n",
       "      <td>23610.0</td>\n",
       "      <td>633917</td>\n",
       "      <td>2381</td>\n",
       "      <td>205247898</td>\n",
       "      <td>22637528</td>\n",
       "      <td>9066710</td>\n",
       "    </tr>\n",
       "    <tr>\n",
       "      <th>3</th>\n",
       "      <td>Belarus</td>\n",
       "      <td>994037</td>\n",
       "      <td>7118</td>\n",
       "      <td>985592.0</td>\n",
       "      <td>1327.0</td>\n",
       "      <td>105381</td>\n",
       "      <td>755</td>\n",
       "      <td>13646641</td>\n",
       "      <td>1446722</td>\n",
       "      <td>9432800</td>\n",
       "    </tr>\n",
       "    <tr>\n",
       "      <th>4</th>\n",
       "      <td>Belgium</td>\n",
       "      <td>4686147</td>\n",
       "      <td>33478</td>\n",
       "      <td>4631003.0</td>\n",
       "      <td>21666.0</td>\n",
       "      <td>401614</td>\n",
       "      <td>2869</td>\n",
       "      <td>36481740</td>\n",
       "      <td>3126574</td>\n",
       "      <td>11668278</td>\n",
       "    </tr>\n",
       "    <tr>\n",
       "      <th>5</th>\n",
       "      <td>Bosnia and Herzegovina</td>\n",
       "      <td>401232</td>\n",
       "      <td>16244</td>\n",
       "      <td>378996.0</td>\n",
       "      <td>5992.0</td>\n",
       "      <td>123482</td>\n",
       "      <td>4999</td>\n",
       "      <td>1883616</td>\n",
       "      <td>579696</td>\n",
       "      <td>3249317</td>\n",
       "    </tr>\n",
       "    <tr>\n",
       "      <th>6</th>\n",
       "      <td>Bulgaria</td>\n",
       "      <td>1294604</td>\n",
       "      <td>38154</td>\n",
       "      <td>1253005.0</td>\n",
       "      <td>3445.0</td>\n",
       "      <td>189142</td>\n",
       "      <td>5574</td>\n",
       "      <td>10952860</td>\n",
       "      <td>1600220</td>\n",
       "      <td>6844597</td>\n",
       "    </tr>\n",
       "    <tr>\n",
       "      <th>7</th>\n",
       "      <td>Channel Islands</td>\n",
       "      <td>100846</td>\n",
       "      <td>220</td>\n",
       "      <td>100278.0</td>\n",
       "      <td>348.0</td>\n",
       "      <td>571485</td>\n",
       "      <td>1247</td>\n",
       "      <td>1252808</td>\n",
       "      <td>7099551</td>\n",
       "      <td>176463</td>\n",
       "    </tr>\n",
       "    <tr>\n",
       "      <th>8</th>\n",
       "      <td>Croatia</td>\n",
       "      <td>1266749</td>\n",
       "      <td>17790</td>\n",
       "      <td>1247874.0</td>\n",
       "      <td>1085.0</td>\n",
       "      <td>312062</td>\n",
       "      <td>4383</td>\n",
       "      <td>5457095</td>\n",
       "      <td>1344348</td>\n",
       "      <td>4059286</td>\n",
       "    </tr>\n",
       "    <tr>\n",
       "      <th>9</th>\n",
       "      <td>Czechia</td>\n",
       "      <td>4586086</td>\n",
       "      <td>42269</td>\n",
       "      <td>4537555.0</td>\n",
       "      <td>6262.0</td>\n",
       "      <td>427138</td>\n",
       "      <td>3937</td>\n",
       "      <td>56853138</td>\n",
       "      <td>5295174</td>\n",
       "      <td>10736784</td>\n",
       "    </tr>\n",
       "    <tr>\n",
       "      <th>10</th>\n",
       "      <td>Denmark</td>\n",
       "      <td>3171515</td>\n",
       "      <td>7982</td>\n",
       "      <td>3160653.0</td>\n",
       "      <td>2880.0</td>\n",
       "      <td>543538</td>\n",
       "      <td>1368</td>\n",
       "      <td>129094301</td>\n",
       "      <td>22124320</td>\n",
       "      <td>5834950</td>\n",
       "    </tr>\n",
       "    <tr>\n",
       "      <th>11</th>\n",
       "      <td>Estonia</td>\n",
       "      <td>613206</td>\n",
       "      <td>2896</td>\n",
       "      <td>524990.0</td>\n",
       "      <td>85320.0</td>\n",
       "      <td>463879</td>\n",
       "      <td>2191</td>\n",
       "      <td>3648199</td>\n",
       "      <td>2759794</td>\n",
       "      <td>1321910</td>\n",
       "    </tr>\n",
       "    <tr>\n",
       "      <th>12</th>\n",
       "      <td>Faeroe Islands</td>\n",
       "      <td>34658</td>\n",
       "      <td>28</td>\n",
       "      <td>NaN</td>\n",
       "      <td>NaN</td>\n",
       "      <td>703959</td>\n",
       "      <td>569</td>\n",
       "      <td>778000</td>\n",
       "      <td>15802409</td>\n",
       "      <td>49233</td>\n",
       "    </tr>\n",
       "    <tr>\n",
       "      <th>13</th>\n",
       "      <td>Finland</td>\n",
       "      <td>1449824</td>\n",
       "      <td>8557</td>\n",
       "      <td>1433382.0</td>\n",
       "      <td>7885.0</td>\n",
       "      <td>260996</td>\n",
       "      <td>1540</td>\n",
       "      <td>12007701</td>\n",
       "      <td>2161618</td>\n",
       "      <td>5554960</td>\n",
       "    </tr>\n",
       "    <tr>\n",
       "      <th>14</th>\n",
       "      <td>France</td>\n",
       "      <td>39467281</td>\n",
       "      <td>163644</td>\n",
       "      <td>39106729.0</td>\n",
       "      <td>196908.0</td>\n",
       "      <td>601777</td>\n",
       "      <td>2495</td>\n",
       "      <td>271490188</td>\n",
       "      <td>4139547</td>\n",
       "      <td>65584518</td>\n",
       "    </tr>\n",
       "    <tr>\n",
       "      <th>15</th>\n",
       "      <td>Germany</td>\n",
       "      <td>37649808</td>\n",
       "      <td>164391</td>\n",
       "      <td>37169700.0</td>\n",
       "      <td>315717.0</td>\n",
       "      <td>448834</td>\n",
       "      <td>1960</td>\n",
       "      <td>122332384</td>\n",
       "      <td>1458359</td>\n",
       "      <td>83883596</td>\n",
       "    </tr>\n",
       "    <tr>\n",
       "      <th>16</th>\n",
       "      <td>Gibraltar</td>\n",
       "      <td>20379</td>\n",
       "      <td>111</td>\n",
       "      <td>16579.0</td>\n",
       "      <td>3689.0</td>\n",
       "      <td>604646</td>\n",
       "      <td>3293</td>\n",
       "      <td>534283</td>\n",
       "      <td>15852213</td>\n",
       "      <td>33704</td>\n",
       "    </tr>\n",
       "    <tr>\n",
       "      <th>17</th>\n",
       "      <td>Greece</td>\n",
       "      <td>5548487</td>\n",
       "      <td>34779</td>\n",
       "      <td>5513708.0</td>\n",
       "      <td>0.0</td>\n",
       "      <td>537819</td>\n",
       "      <td>3371</td>\n",
       "      <td>102228365</td>\n",
       "      <td>9909078</td>\n",
       "      <td>10316637</td>\n",
       "    </tr>\n",
       "    <tr>\n",
       "      <th>18</th>\n",
       "      <td>Hungary</td>\n",
       "      <td>2191200</td>\n",
       "      <td>48629</td>\n",
       "      <td>2133974.0</td>\n",
       "      <td>8597.0</td>\n",
       "      <td>228101</td>\n",
       "      <td>5062</td>\n",
       "      <td>11394556</td>\n",
       "      <td>1186160</td>\n",
       "      <td>9606259</td>\n",
       "    </tr>\n",
       "    <tr>\n",
       "      <th>19</th>\n",
       "      <td>Iceland</td>\n",
       "      <td>208539</td>\n",
       "      <td>229</td>\n",
       "      <td>NaN</td>\n",
       "      <td>NaN</td>\n",
       "      <td>603773</td>\n",
       "      <td>663</td>\n",
       "      <td>1996384</td>\n",
       "      <td>5780036</td>\n",
       "      <td>345393</td>\n",
       "    </tr>\n",
       "    <tr>\n",
       "      <th>20</th>\n",
       "      <td>Ireland</td>\n",
       "      <td>1699347</td>\n",
       "      <td>8431</td>\n",
       "      <td>1678684.0</td>\n",
       "      <td>12232.0</td>\n",
       "      <td>338502</td>\n",
       "      <td>1679</td>\n",
       "      <td>12962679</td>\n",
       "      <td>2582105</td>\n",
       "      <td>5020199</td>\n",
       "    </tr>\n",
       "    <tr>\n",
       "      <th>21</th>\n",
       "      <td>Isle of Man</td>\n",
       "      <td>38008</td>\n",
       "      <td>116</td>\n",
       "      <td>NaN</td>\n",
       "      <td>NaN</td>\n",
       "      <td>443335</td>\n",
       "      <td>1353</td>\n",
       "      <td>150753</td>\n",
       "      <td>1758422</td>\n",
       "      <td>85732</td>\n",
       "    </tr>\n",
       "    <tr>\n",
       "      <th>22</th>\n",
       "      <td>Italy</td>\n",
       "      <td>25363742</td>\n",
       "      <td>185993</td>\n",
       "      <td>24824106.0</td>\n",
       "      <td>353643.0</td>\n",
       "      <td>420886</td>\n",
       "      <td>3086</td>\n",
       "      <td>264182282</td>\n",
       "      <td>4383839</td>\n",
       "      <td>60262770</td>\n",
       "    </tr>\n",
       "    <tr>\n",
       "      <th>23</th>\n",
       "      <td>Latvia</td>\n",
       "      <td>975035</td>\n",
       "      <td>6203</td>\n",
       "      <td>968291.0</td>\n",
       "      <td>541.0</td>\n",
       "      <td>527377</td>\n",
       "      <td>3355</td>\n",
       "      <td>7854953</td>\n",
       "      <td>4248591</td>\n",
       "      <td>1848837</td>\n",
       "    </tr>\n",
       "    <tr>\n",
       "      <th>24</th>\n",
       "      <td>Liechtenstein</td>\n",
       "      <td>21319</td>\n",
       "      <td>88</td>\n",
       "      <td>21211.0</td>\n",
       "      <td>20.0</td>\n",
       "      <td>555370</td>\n",
       "      <td>2292</td>\n",
       "      <td>112457</td>\n",
       "      <td>2929559</td>\n",
       "      <td>38387</td>\n",
       "    </tr>\n",
       "    <tr>\n",
       "      <th>25</th>\n",
       "      <td>Lithuania</td>\n",
       "      <td>1293703</td>\n",
       "      <td>9525</td>\n",
       "      <td>1278440.0</td>\n",
       "      <td>5738.0</td>\n",
       "      <td>486042</td>\n",
       "      <td>3579</td>\n",
       "      <td>10337843</td>\n",
       "      <td>3883913</td>\n",
       "      <td>2661708</td>\n",
       "    </tr>\n",
       "    <tr>\n",
       "      <th>26</th>\n",
       "      <td>Luxembourg</td>\n",
       "      <td>297757</td>\n",
       "      <td>1133</td>\n",
       "      <td>288991.0</td>\n",
       "      <td>7633.0</td>\n",
       "      <td>463528</td>\n",
       "      <td>1764</td>\n",
       "      <td>4412567</td>\n",
       "      <td>6869188</td>\n",
       "      <td>642371</td>\n",
       "    </tr>\n",
       "    <tr>\n",
       "      <th>27</th>\n",
       "      <td>Malta</td>\n",
       "      <td>116882</td>\n",
       "      <td>822</td>\n",
       "      <td>115325.0</td>\n",
       "      <td>735.0</td>\n",
       "      <td>263228</td>\n",
       "      <td>1851</td>\n",
       "      <td>2105916</td>\n",
       "      <td>4742702</td>\n",
       "      <td>444033</td>\n",
       "    </tr>\n",
       "    <tr>\n",
       "      <th>28</th>\n",
       "      <td>Moldova</td>\n",
       "      <td>597598</td>\n",
       "      <td>11947</td>\n",
       "      <td>504142.0</td>\n",
       "      <td>81509.0</td>\n",
       "      <td>148909</td>\n",
       "      <td>2977</td>\n",
       "      <td>3216305</td>\n",
       "      <td>801437</td>\n",
       "      <td>4013171</td>\n",
       "    </tr>\n",
       "    <tr>\n",
       "      <th>29</th>\n",
       "      <td>Monaco</td>\n",
       "      <td>16040</td>\n",
       "      <td>65</td>\n",
       "      <td>15951.0</td>\n",
       "      <td>24.0</td>\n",
       "      <td>403187</td>\n",
       "      <td>1634</td>\n",
       "      <td>78646</td>\n",
       "      <td>1976875</td>\n",
       "      <td>39783</td>\n",
       "    </tr>\n",
       "    <tr>\n",
       "      <th>30</th>\n",
       "      <td>Montenegro</td>\n",
       "      <td>285773</td>\n",
       "      <td>2794</td>\n",
       "      <td>282452.0</td>\n",
       "      <td>527.0</td>\n",
       "      <td>455089</td>\n",
       "      <td>4449</td>\n",
       "      <td>2690571</td>\n",
       "      <td>4284690</td>\n",
       "      <td>627950</td>\n",
       "    </tr>\n",
       "    <tr>\n",
       "      <th>31</th>\n",
       "      <td>Netherlands</td>\n",
       "      <td>8578818</td>\n",
       "      <td>22989</td>\n",
       "      <td>8534990.0</td>\n",
       "      <td>20839.0</td>\n",
       "      <td>498437</td>\n",
       "      <td>1336</td>\n",
       "      <td>25984435</td>\n",
       "      <td>1509718</td>\n",
       "      <td>17211447</td>\n",
       "    </tr>\n",
       "    <tr>\n",
       "      <th>32</th>\n",
       "      <td>North Macedonia</td>\n",
       "      <td>346297</td>\n",
       "      <td>9633</td>\n",
       "      <td>336460.0</td>\n",
       "      <td>204.0</td>\n",
       "      <td>166385</td>\n",
       "      <td>4628</td>\n",
       "      <td>2213883</td>\n",
       "      <td>1063700</td>\n",
       "      <td>2081304</td>\n",
       "    </tr>\n",
       "    <tr>\n",
       "      <th>33</th>\n",
       "      <td>Norway</td>\n",
       "      <td>1477205</td>\n",
       "      <td>4571</td>\n",
       "      <td>1470825.0</td>\n",
       "      <td>1809.0</td>\n",
       "      <td>268029</td>\n",
       "      <td>829</td>\n",
       "      <td>11002430</td>\n",
       "      <td>1996315</td>\n",
       "      <td>5511370</td>\n",
       "    </tr>\n",
       "    <tr>\n",
       "      <th>34</th>\n",
       "      <td>Poland</td>\n",
       "      <td>6374645</td>\n",
       "      <td>118675</td>\n",
       "      <td>5335940.0</td>\n",
       "      <td>920030.0</td>\n",
       "      <td>168910</td>\n",
       "      <td>3145</td>\n",
       "      <td>38070118</td>\n",
       "      <td>1008753</td>\n",
       "      <td>37739785</td>\n",
       "    </tr>\n",
       "    <tr>\n",
       "      <th>35</th>\n",
       "      <td>Portugal</td>\n",
       "      <td>5557941</td>\n",
       "      <td>25805</td>\n",
       "      <td>5529271.0</td>\n",
       "      <td>2865.0</td>\n",
       "      <td>548090</td>\n",
       "      <td>2545</td>\n",
       "      <td>45879317</td>\n",
       "      <td>4524333</td>\n",
       "      <td>10140570</td>\n",
       "    </tr>\n",
       "    <tr>\n",
       "      <th>36</th>\n",
       "      <td>Romania</td>\n",
       "      <td>3319680</td>\n",
       "      <td>67504</td>\n",
       "      <td>3244581.0</td>\n",
       "      <td>7595.0</td>\n",
       "      <td>174432</td>\n",
       "      <td>3547</td>\n",
       "      <td>26244526</td>\n",
       "      <td>1379017</td>\n",
       "      <td>19031335</td>\n",
       "    </tr>\n",
       "    <tr>\n",
       "      <th>37</th>\n",
       "      <td>Russia</td>\n",
       "      <td>21876336</td>\n",
       "      <td>394569</td>\n",
       "      <td>21293221.0</td>\n",
       "      <td>188546.0</td>\n",
       "      <td>150037</td>\n",
       "      <td>2706</td>\n",
       "      <td>273400000</td>\n",
       "      <td>1875095</td>\n",
       "      <td>145805947</td>\n",
       "    </tr>\n",
       "    <tr>\n",
       "      <th>38</th>\n",
       "      <td>San Marino</td>\n",
       "      <td>23290</td>\n",
       "      <td>121</td>\n",
       "      <td>23034.0</td>\n",
       "      <td>135.0</td>\n",
       "      <td>683292</td>\n",
       "      <td>3550</td>\n",
       "      <td>157634</td>\n",
       "      <td>4624732</td>\n",
       "      <td>34085</td>\n",
       "    </tr>\n",
       "    <tr>\n",
       "      <th>39</th>\n",
       "      <td>Serbia</td>\n",
       "      <td>2462353</td>\n",
       "      <td>17630</td>\n",
       "      <td>2428623.0</td>\n",
       "      <td>16100.0</td>\n",
       "      <td>284566</td>\n",
       "      <td>2037</td>\n",
       "      <td>12040278</td>\n",
       "      <td>1391454</td>\n",
       "      <td>8653016</td>\n",
       "    </tr>\n",
       "    <tr>\n",
       "      <th>40</th>\n",
       "      <td>Slovakia</td>\n",
       "      <td>1860315</td>\n",
       "      <td>20894</td>\n",
       "      <td>1838674.0</td>\n",
       "      <td>747.0</td>\n",
       "      <td>340705</td>\n",
       "      <td>3827</td>\n",
       "      <td>7384670</td>\n",
       "      <td>1352456</td>\n",
       "      <td>5460193</td>\n",
       "    </tr>\n",
       "    <tr>\n",
       "      <th>41</th>\n",
       "      <td>Slovenia</td>\n",
       "      <td>1318939</td>\n",
       "      <td>7039</td>\n",
       "      <td>1303847.0</td>\n",
       "      <td>8053.0</td>\n",
       "      <td>634705</td>\n",
       "      <td>3387</td>\n",
       "      <td>2818352</td>\n",
       "      <td>1356259</td>\n",
       "      <td>2078034</td>\n",
       "    </tr>\n",
       "    <tr>\n",
       "      <th>42</th>\n",
       "      <td>Spain</td>\n",
       "      <td>13711251</td>\n",
       "      <td>117759</td>\n",
       "      <td>13522850.0</td>\n",
       "      <td>70642.0</td>\n",
       "      <td>293483</td>\n",
       "      <td>2521</td>\n",
       "      <td>471036328</td>\n",
       "      <td>10082298</td>\n",
       "      <td>46719142</td>\n",
       "    </tr>\n",
       "    <tr>\n",
       "      <th>43</th>\n",
       "      <td>Sweden</td>\n",
       "      <td>2687840</td>\n",
       "      <td>22610</td>\n",
       "      <td>2637324.0</td>\n",
       "      <td>27906.0</td>\n",
       "      <td>263025</td>\n",
       "      <td>2213</td>\n",
       "      <td>19369173</td>\n",
       "      <td>1895413</td>\n",
       "      <td>10218971</td>\n",
       "    </tr>\n",
       "    <tr>\n",
       "      <th>44</th>\n",
       "      <td>Switzerland</td>\n",
       "      <td>4384899</td>\n",
       "      <td>14451</td>\n",
       "      <td>4352143.0</td>\n",
       "      <td>18305.0</td>\n",
       "      <td>499781</td>\n",
       "      <td>1647</td>\n",
       "      <td>23318743</td>\n",
       "      <td>2657819</td>\n",
       "      <td>8773637</td>\n",
       "    </tr>\n",
       "    <tr>\n",
       "      <th>45</th>\n",
       "      <td>UK</td>\n",
       "      <td>24243393</td>\n",
       "      <td>202157</td>\n",
       "      <td>23949907.0</td>\n",
       "      <td>91329.0</td>\n",
       "      <td>353929</td>\n",
       "      <td>2951</td>\n",
       "      <td>522526476</td>\n",
       "      <td>7628357</td>\n",
       "      <td>68497907</td>\n",
       "    </tr>\n",
       "    <tr>\n",
       "      <th>46</th>\n",
       "      <td>Ukraine</td>\n",
       "      <td>5364322</td>\n",
       "      <td>110920</td>\n",
       "      <td>5247508.0</td>\n",
       "      <td>5894.0</td>\n",
       "      <td>124197</td>\n",
       "      <td>2568</td>\n",
       "      <td>32603805</td>\n",
       "      <td>754855</td>\n",
       "      <td>43192122</td>\n",
       "    </tr>\n",
       "  </tbody>\n",
       "</table>\n",
       "</div>"
      ],
      "text/plain": [
       "             Country/Other  Total Cases  Total Deaths  Total Recovered  \\\n",
       "0                  Albania       334084          3595         328802.0   \n",
       "1                  Andorra        47781           165          47563.0   \n",
       "2                  Austria      5747540         21589        5702341.0   \n",
       "3                  Belarus       994037          7118         985592.0   \n",
       "4                  Belgium      4686147         33478        4631003.0   \n",
       "5   Bosnia and Herzegovina       401232         16244         378996.0   \n",
       "6                 Bulgaria      1294604         38154        1253005.0   \n",
       "7          Channel Islands       100846           220         100278.0   \n",
       "8                  Croatia      1266749         17790        1247874.0   \n",
       "9                  Czechia      4586086         42269        4537555.0   \n",
       "10                 Denmark      3171515          7982        3160653.0   \n",
       "11                 Estonia       613206          2896         524990.0   \n",
       "12          Faeroe Islands        34658            28              NaN   \n",
       "13                 Finland      1449824          8557        1433382.0   \n",
       "14                  France     39467281        163644       39106729.0   \n",
       "15                 Germany     37649808        164391       37169700.0   \n",
       "16               Gibraltar        20379           111          16579.0   \n",
       "17                  Greece      5548487         34779        5513708.0   \n",
       "18                 Hungary      2191200         48629        2133974.0   \n",
       "19                 Iceland       208539           229              NaN   \n",
       "20                 Ireland      1699347          8431        1678684.0   \n",
       "21             Isle of Man        38008           116              NaN   \n",
       "22                   Italy     25363742        185993       24824106.0   \n",
       "23                  Latvia       975035          6203         968291.0   \n",
       "24           Liechtenstein        21319            88          21211.0   \n",
       "25               Lithuania      1293703          9525        1278440.0   \n",
       "26              Luxembourg       297757          1133         288991.0   \n",
       "27                   Malta       116882           822         115325.0   \n",
       "28                 Moldova       597598         11947         504142.0   \n",
       "29                  Monaco        16040            65          15951.0   \n",
       "30              Montenegro       285773          2794         282452.0   \n",
       "31             Netherlands      8578818         22989        8534990.0   \n",
       "32         North Macedonia       346297          9633         336460.0   \n",
       "33                  Norway      1477205          4571        1470825.0   \n",
       "34                  Poland      6374645        118675        5335940.0   \n",
       "35                Portugal      5557941         25805        5529271.0   \n",
       "36                 Romania      3319680         67504        3244581.0   \n",
       "37                  Russia     21876336        394569       21293221.0   \n",
       "38              San Marino        23290           121          23034.0   \n",
       "39                  Serbia      2462353         17630        2428623.0   \n",
       "40                Slovakia      1860315         20894        1838674.0   \n",
       "41                Slovenia      1318939          7039        1303847.0   \n",
       "42                   Spain     13711251        117759       13522850.0   \n",
       "43                  Sweden      2687840         22610        2637324.0   \n",
       "44             Switzerland      4384899         14451        4352143.0   \n",
       "45                      UK     24243393        202157       23949907.0   \n",
       "46                 Ukraine      5364322        110920        5247508.0   \n",
       "\n",
       "    Active Cases  Tot Cases/ 1M pop  Deaths/ 1M pop  Total Tests  \\\n",
       "0         1687.0             116553            1254      1941032   \n",
       "1           53.0             616824            2130       249838   \n",
       "2        23610.0             633917            2381    205247898   \n",
       "3         1327.0             105381             755     13646641   \n",
       "4        21666.0             401614            2869     36481740   \n",
       "5         5992.0             123482            4999      1883616   \n",
       "6         3445.0             189142            5574     10952860   \n",
       "7          348.0             571485            1247      1252808   \n",
       "8         1085.0             312062            4383      5457095   \n",
       "9         6262.0             427138            3937     56853138   \n",
       "10        2880.0             543538            1368    129094301   \n",
       "11       85320.0             463879            2191      3648199   \n",
       "12           NaN             703959             569       778000   \n",
       "13        7885.0             260996            1540     12007701   \n",
       "14      196908.0             601777            2495    271490188   \n",
       "15      315717.0             448834            1960    122332384   \n",
       "16        3689.0             604646            3293       534283   \n",
       "17           0.0             537819            3371    102228365   \n",
       "18        8597.0             228101            5062     11394556   \n",
       "19           NaN             603773             663      1996384   \n",
       "20       12232.0             338502            1679     12962679   \n",
       "21           NaN             443335            1353       150753   \n",
       "22      353643.0             420886            3086    264182282   \n",
       "23         541.0             527377            3355      7854953   \n",
       "24          20.0             555370            2292       112457   \n",
       "25        5738.0             486042            3579     10337843   \n",
       "26        7633.0             463528            1764      4412567   \n",
       "27         735.0             263228            1851      2105916   \n",
       "28       81509.0             148909            2977      3216305   \n",
       "29          24.0             403187            1634        78646   \n",
       "30         527.0             455089            4449      2690571   \n",
       "31       20839.0             498437            1336     25984435   \n",
       "32         204.0             166385            4628      2213883   \n",
       "33        1809.0             268029             829     11002430   \n",
       "34      920030.0             168910            3145     38070118   \n",
       "35        2865.0             548090            2545     45879317   \n",
       "36        7595.0             174432            3547     26244526   \n",
       "37      188546.0             150037            2706    273400000   \n",
       "38         135.0             683292            3550       157634   \n",
       "39       16100.0             284566            2037     12040278   \n",
       "40         747.0             340705            3827      7384670   \n",
       "41        8053.0             634705            3387      2818352   \n",
       "42       70642.0             293483            2521    471036328   \n",
       "43       27906.0             263025            2213     19369173   \n",
       "44       18305.0             499781            1647     23318743   \n",
       "45       91329.0             353929            2951    522526476   \n",
       "46        5894.0             124197            2568     32603805   \n",
       "\n",
       "    Tests/ 1M pop  Population  \n",
       "0          677173     2866374  \n",
       "1         3225256       77463  \n",
       "2        22637528     9066710  \n",
       "3         1446722     9432800  \n",
       "4         3126574    11668278  \n",
       "5          579696     3249317  \n",
       "6         1600220     6844597  \n",
       "7         7099551      176463  \n",
       "8         1344348     4059286  \n",
       "9         5295174    10736784  \n",
       "10       22124320     5834950  \n",
       "11        2759794     1321910  \n",
       "12       15802409       49233  \n",
       "13        2161618     5554960  \n",
       "14        4139547    65584518  \n",
       "15        1458359    83883596  \n",
       "16       15852213       33704  \n",
       "17        9909078    10316637  \n",
       "18        1186160     9606259  \n",
       "19        5780036      345393  \n",
       "20        2582105     5020199  \n",
       "21        1758422       85732  \n",
       "22        4383839    60262770  \n",
       "23        4248591     1848837  \n",
       "24        2929559       38387  \n",
       "25        3883913     2661708  \n",
       "26        6869188      642371  \n",
       "27        4742702      444033  \n",
       "28         801437     4013171  \n",
       "29        1976875       39783  \n",
       "30        4284690      627950  \n",
       "31        1509718    17211447  \n",
       "32        1063700     2081304  \n",
       "33        1996315     5511370  \n",
       "34        1008753    37739785  \n",
       "35        4524333    10140570  \n",
       "36        1379017    19031335  \n",
       "37        1875095   145805947  \n",
       "38        4624732       34085  \n",
       "39        1391454     8653016  \n",
       "40        1352456     5460193  \n",
       "41        1356259     2078034  \n",
       "42       10082298    46719142  \n",
       "43        1895413    10218971  \n",
       "44        2657819     8773637  \n",
       "45        7628357    68497907  \n",
       "46         754855    43192122  "
      ]
     },
     "execution_count": 3,
     "metadata": {},
     "output_type": "execute_result"
    }
   ],
   "source": [
    "data_covid = pd.read_csv(\"europe_covid.csv\",delimiter = \",\")\n",
    "data_covid"
   ]
  },
  {
   "cell_type": "code",
   "execution_count": 4,
   "metadata": {},
   "outputs": [
    {
     "data": {
      "text/plain": [
       "<seaborn.axisgrid.JointGrid at 0x228c8dc2640>"
      ]
     },
     "execution_count": 4,
     "metadata": {},
     "output_type": "execute_result"
    },
    {
     "data": {
      "image/png": "[encoded data removed]",
      "text/plain": [
       "<Figure size 600x600 with 3 Axes>"
      ]
     },
     "metadata": {},
     "output_type": "display_data"
    }
   ],
   "source": [
    "sns.jointplot(data = data_covid, x = \"Total Tests\", y = \"Total Deaths\", hue = \"Population\")"
   ]
  },
  {
   "cell_type": "code",
   "execution_count": 5,
   "metadata": {},
   "outputs": [
    {
     "data": {
      "application/vnd.plotly.v1+json": {
       "config": {
        "plotlyServerURL": "https://plot.ly"
       },
       "data": [
        {
         "coloraxis": "coloraxis",
         "geo": "geo",
         "hovertemplate": "<b>%{hovertext}</b><br><br>Country/Other=%{location}<br>Total Cases=%{z}<extra></extra>",
         "hovertext": [
          "Faeroe Islands",
          "San Marino",
          "Slovenia",
          "Austria",
          "Andorra",
          "Gibraltar",
          "Iceland",
          "France",
          "Channel Islands",
          "Liechtenstein",
          "Portugal",
          "Denmark",
          "Greece",
          "Latvia",
          "Switzerland",
          "Netherlands",
          "Lithuania",
          "Estonia",
          "Luxembourg",
          "Montenegro",
          "Germany",
          "Isle of Man",
          "Czechia",
          "Italy",
          "Monaco",
          "Belgium",
          "UK",
          "Slovakia",
          "Ireland",
          "Croatia",
          "Spain",
          "Serbia",
          "Norway",
          "Malta",
          "Sweden",
          "Finland",
          "Hungary",
          "Bulgaria",
          "Romania",
          "Poland",
          "North Macedonia",
          "Russia",
          "Moldova",
          "Ukraine",
          "Bosnia and Herzegovina",
          "Albania",
          "Belarus"
         ],
         "locationmode": "country names",
         "locations": [
          "Faeroe Islands",
          "San Marino",
          "Slovenia",
          "Austria",
          "Andorra",
          "Gibraltar",
          "Iceland",
          "France",
          "Channel Islands",
          "Liechtenstein",
          "Portugal",
          "Denmark",
          "Greece",
          "Latvia",
          "Switzerland",
          "Netherlands",
          "Lithuania",
          "Estonia",
          "Luxembourg",
          "Montenegro",
          "Germany",
          "Isle of Man",
          "Czechia",
          "Italy",
          "Monaco",
          "Belgium",
          "UK",
          "Slovakia",
          "Ireland",
          "Croatia",
          "Spain",
          "Serbia",
          "Norway",
          "Malta",
          "Sweden",
          "Finland",
          "Hungary",
          "Bulgaria",
          "Romania",
          "Poland",
          "North Macedonia",
          "Russia",
          "Moldova",
          "Ukraine",
          "Bosnia and Herzegovina",
          "Albania",
          "Belarus"
         ],
         "name": "",
         "type": "choropleth",
         "z": [
          34658,
          23290,
          1318939,
          5747540,
          47781,
          20379,
          208539,
          39467281,
          100846,
          21319,
          5557941,
          3171515,
          5548487,
          975035,
          4384899,
          8578818,
          1293703,
          613206,
          297757,
          285773,
          37649808,
          38008,
          4586086,
          25363742,
          16040,
          4686147,
          24243393,
          1860315,
          1699347,
          1266749,
          13711251,
          2462353,
          1477205,
          116882,
          2687840,
          1449824,
          2191200,
          1294604,
          3319680,
          6374645,
          346297,
          21876336,
          597598,
          5364322,
          401232,
          334084,
          994037
         ]
        }
       ],
       "layout": {
        "coloraxis": {
         "colorbar": {
          "title": {
           "text": "Total Cases"
          }
         },
         "colorscale": [
          [
           0,
           "rgb(255,245,240)"
          ],
          [
           0.125,
           "rgb(254,224,210)"
          ],
          [
           0.25,
           "rgb(252,187,161)"
          ],
          [
           0.375,
           "rgb(252,146,114)"
          ],
          [
           0.5,
           "rgb(251,106,74)"
          ],
          [
           0.625,
           "rgb(239,59,44)"
          ],
          [
           0.75,
           "rgb(203,24,29)"
          ],
          [
           0.875,
           "rgb(165,15,21)"
          ],
          [
           1,
           "rgb(103,0,13)"
          ]
         ]
        },
        "geo": {
         "center": {},
         "domain": {
          "x": [
           0,
           1
          ],
          "y": [
           0,
           1
          ]
         },
         "projection": {
          "type": "equirectangular"
         },
         "scope": "europe",
         "showcoastlines": false,
         "showframe": false
        },
        "legend": {
         "tracegroupgap": 0
        },
        "margin": {
         "t": 60
        },
        "template": {
         "data": {
          "bar": [
           {
            "error_x": {
             "color": "#2a3f5f"
            },
            "error_y": {
             "color": "#2a3f5f"
            },
            "marker": {
             "line": {
              "color": "#E5ECF6",
              "width": 0.5
             },
             "pattern": {
              "fillmode": "overlay",
              "size": 10,
              "solidity": 0.2
             }
            },
            "type": "bar"
           }
          ],
          "barpolar": [
           {
            "marker": {
             "line": {
              "color": "#E5ECF6",
              "width": 0.5
             },
             "pattern": {
              "fillmode": "overlay",
              "size": 10,
              "solidity": 0.2
             }
            },
            "type": "barpolar"
           }
          ],
          "carpet": [
           {
            "aaxis": {
             "endlinecolor": "#2a3f5f",
             "gridcolor": "white",
             "linecolor": "white",
             "minorgridcolor": "white",
             "startlinecolor": "#2a3f5f"
            },
            "baxis": {
             "endlinecolor": "#2a3f5f",
             "gridcolor": "white",
             "linecolor": "white",
             "minorgridcolor": "white",
             "startlinecolor": "#2a3f5f"
            },
            "type": "carpet"
           }
          ],
          "choropleth": [
           {
            "colorbar": {
             "outlinewidth": 0,
             "ticks": ""
            },
            "type": "choropleth"
           }
          ],
          "contour": [
           {
            "colorbar": {
             "outlinewidth": 0,
             "ticks": ""
            },
            "colorscale": [
             [
              0,
              "#0d0887"
             ],
             [
              0.1111111111111111,
              "#46039f"
             ],
             [
              0.2222222222222222,
              "#7201a8"
             ],
             [
              0.3333333333333333,
              "#9c179e"
             ],
             [
              0.4444444444444444,
              "#bd3786"
             ],
             [
              0.5555555555555556,
              "#d8576b"
             ],
             [
              0.6666666666666666,
              "#ed7953"
             ],
             [
              0.7777777777777778,
              "#fb9f3a"
             ],
             [
              0.8888888888888888,
              "#fdca26"
             ],
             [
              1,
              "#f0f921"
             ]
            ],
            "type": "contour"
           }
          ],
          "contourcarpet": [
           {
            "colorbar": {
             "outlinewidth": 0,
             "ticks": ""
            },
            "type": "contourcarpet"
           }
          ],
          "heatmap": [
           {
            "colorbar": {
             "outlinewidth": 0,
             "ticks": ""
            },
            "colorscale": [
             [
              0,
              "#0d0887"
             ],
             [
              0.1111111111111111,
              "#46039f"
             ],
             [
              0.2222222222222222,
              "#7201a8"
             ],
             [
              0.3333333333333333,
              "#9c179e"
             ],
             [
              0.4444444444444444,
              "#bd3786"
             ],
             [
              0.5555555555555556,
              "#d8576b"
             ],
             [
              0.6666666666666666,
              "#ed7953"
             ],
             [
              0.7777777777777778,
              "#fb9f3a"
             ],
             [
              0.8888888888888888,
              "#fdca26"
             ],
             [
              1,
              "#f0f921"
             ]
            ],
            "type": "heatmap"
           }
          ],
          "heatmapgl": [
           {
            "colorbar": {
             "outlinewidth": 0,
             "ticks": ""
            },
            "colorscale": [
             [
              0,
              "#0d0887"
             ],
             [
              0.1111111111111111,
              "#46039f"
             ],
             [
              0.2222222222222222,
              "#7201a8"
             ],
             [
              0.3333333333333333,
              "#9c179e"
             ],
             [
              0.4444444444444444,
              "#bd3786"
             ],
             [
              0.5555555555555556,
              "#d8576b"
             ],
             [
              0.6666666666666666,
              "#ed7953"
             ],
             [
              0.7777777777777778,
              "#fb9f3a"
             ],
             [
              0.8888888888888888,
              "#fdca26"
             ],
             [
              1,
              "#f0f921"
             ]
            ],
            "type": "heatmapgl"
           }
          ],
          "histogram": [
           {
            "marker": {
             "pattern": {
              "fillmode": "overlay",
              "size": 10,
              "solidity": 0.2
             }
            },
            "type": "histogram"
           }
          ],
          "histogram2d": [
           {
            "colorbar": {
             "outlinewidth": 0,
             "ticks": ""
            },
            "colorscale": [
             [
              0,
              "#0d0887"
             ],
             [
              0.1111111111111111,
              "#46039f"
             ],
             [
              0.2222222222222222,
              "#7201a8"
             ],
             [
              0.3333333333333333,
              "#9c179e"
             ],
             [
              0.4444444444444444,
              "#bd3786"
             ],
             [
              0.5555555555555556,
              "#d8576b"
             ],
             [
              0.6666666666666666,
              "#ed7953"
             ],
             [
              0.7777777777777778,
              "#fb9f3a"
             ],
             [
              0.8888888888888888,
              "#fdca26"
             ],
             [
              1,
              "#f0f921"
             ]
            ],
            "type": "histogram2d"
           }
          ],
          "histogram2dcontour": [
           {
            "colorbar": {
             "outlinewidth": 0,
             "ticks": ""
            },
            "colorscale": [
             [
              0,
              "#0d0887"
             ],
             [
              0.1111111111111111,
              "#46039f"
             ],
             [
              0.2222222222222222,
              "#7201a8"
             ],
             [
              0.3333333333333333,
              "#9c179e"
             ],
             [
              0.4444444444444444,
              "#bd3786"
             ],
             [
              0.5555555555555556,
              "#d8576b"
             ],
             [
              0.6666666666666666,
              "#ed7953"
             ],
             [
              0.7777777777777778,
              "#fb9f3a"
             ],
             [
              0.8888888888888888,
              "#fdca26"
             ],
             [
              1,
              "#f0f921"
             ]
            ],
            "type": "histogram2dcontour"
           }
          ],
          "mesh3d": [
           {
            "colorbar": {
             "outlinewidth": 0,
             "ticks": ""
            },
            "type": "mesh3d"
           }
          ],
          "parcoords": [
           {
            "line": {
             "colorbar": {
              "outlinewidth": 0,
              "ticks": ""
             }
            },
            "type": "parcoords"
           }
          ],
          "pie": [
           {
            "automargin": true,
            "type": "pie"
           }
          ],
          "scatter": [
           {
            "fillpattern": {
             "fillmode": "overlay",
             "size": 10,
             "solidity": 0.2
            },
            "type": "scatter"
           }
          ],
          "scatter3d": [
           {
            "line": {
             "colorbar": {
              "outlinewidth": 0,
              "ticks": ""
             }
            },
            "marker": {
             "colorbar": {
              "outlinewidth": 0,
              "ticks": ""
             }
            },
            "type": "scatter3d"
           }
          ],
          "scattercarpet": [
           {
            "marker": {
             "colorbar": {
              "outlinewidth": 0,
              "ticks": ""
             }
            },
            "type": "scattercarpet"
           }
          ],
          "scattergeo": [
           {
            "marker": {
             "colorbar": {
              "outlinewidth": 0,
              "ticks": ""
             }
            },
            "type": "scattergeo"
           }
          ],
          "scattergl": [
           {
            "marker": {
             "colorbar": {
              "outlinewidth": 0,
              "ticks": ""
             }
            },
            "type": "scattergl"
           }
          ],
          "scattermapbox": [
           {
            "marker": {
             "colorbar": {
              "outlinewidth": 0,
              "ticks": ""
             }
            },
            "type": "scattermapbox"
           }
          ],
          "scatterpolar": [
           {
            "marker": {
             "colorbar": {
              "outlinewidth": 0,
              "ticks": ""
             }
            },
            "type": "scatterpolar"
           }
          ],
          "scatterpolargl": [
           {
            "marker": {
             "colorbar": {
              "outlinewidth": 0,
              "ticks": ""
             }
            },
            "type": "scatterpolargl"
           }
          ],
          "scatterternary": [
           {
            "marker": {
             "colorbar": {
              "outlinewidth": 0,
              "ticks": ""
             }
            },
            "type": "scatterternary"
           }
          ],
          "surface": [
           {
            "colorbar": {
             "outlinewidth": 0,
             "ticks": ""
            },
            "colorscale": [
             [
              0,
              "#0d0887"
             ],
             [
              0.1111111111111111,
              "#46039f"
             ],
             [
              0.2222222222222222,
              "#7201a8"
             ],
             [
              0.3333333333333333,
              "#9c179e"
             ],
             [
              0.4444444444444444,
              "#bd3786"
             ],
             [
              0.5555555555555556,
              "#d8576b"
             ],
             [
              0.6666666666666666,
              "#ed7953"
             ],
             [
              0.7777777777777778,
              "#fb9f3a"
             ],
             [
              0.8888888888888888,
              "#fdca26"
             ],
             [
              1,
              "#f0f921"
             ]
            ],
            "type": "surface"
           }
          ],
          "table": [
           {
            "cells": {
             "fill": {
              "color": "#EBF0F8"
             },
             "line": {
              "color": "white"
             }
            },
            "header": {
             "fill": {
              "color": "#C8D4E3"
             },
             "line": {
              "color": "white"
             }
            },
            "type": "table"
           }
          ]
         },
         "layout": {
          "annotationdefaults": {
           "arrowcolor": "#2a3f5f",
           "arrowhead": 0,
           "arrowwidth": 1
          },
          "autotypenumbers": "strict",
          "coloraxis": {
           "colorbar": {
            "outlinewidth": 0,
            "ticks": ""
           }
          },
          "colorscale": {
           "diverging": [
            [
             0,
             "#8e0152"
            ],
            [
             0.1,
             "#c51b7d"
            ],
            [
             0.2,
             "#de77ae"
            ],
            [
             0.3,
             "#f1b6da"
            ],
            [
             0.4,
             "#fde0ef"
            ],
            [
             0.5,
             "#f7f7f7"
            ],
            [
             0.6,
             "#e6f5d0"
            ],
            [
             0.7,
             "#b8e186"
            ],
            [
             0.8,
             "#7fbc41"
            ],
            [
             0.9,
             "#4d9221"
            ],
            [
             1,
             "#276419"
            ]
           ],
           "sequential": [
            [
             0,
             "#0d0887"
            ],
            [
             0.1111111111111111,
             "#46039f"
            ],
            [
             0.2222222222222222,
             "#7201a8"
            ],
            [
             0.3333333333333333,
             "#9c179e"
            ],
            [
             0.4444444444444444,
             "#bd3786"
            ],
            [
             0.5555555555555556,
             "#d8576b"
            ],
            [
             0.6666666666666666,
             "#ed7953"
            ],
            [
             0.7777777777777778,
             "#fb9f3a"
            ],
            [
             0.8888888888888888,
             "#fdca26"
            ],
            [
             1,
             "#f0f921"
            ]
           ],
           "sequentialminus": [
            [
             0,
             "#0d0887"
            ],
            [
             0.1111111111111111,
             "#46039f"
            ],
            [
             0.2222222222222222,
             "#7201a8"
            ],
            [
             0.3333333333333333,
             "#9c179e"
            ],
            [
             0.4444444444444444,
             "#bd3786"
            ],
            [
             0.5555555555555556,
             "#d8576b"
            ],
            [
             0.6666666666666666,
             "#ed7953"
            ],
            [
             0.7777777777777778,
             "#fb9f3a"
            ],
            [
             0.8888888888888888,
             "#fdca26"
            ],
            [
             1,
             "#f0f921"
            ]
           ]
          },
          "colorway": [
           "#636efa",
           "#EF553B",
           "#00cc96",
           "#ab63fa",
           "#FFA15A",
           "#19d3f3",
           "#FF6692",
           "#B6E880",
           "#FF97FF",
           "#FECB52"
          ],
          "font": {
           "color": "#2a3f5f"
          },
          "geo": {
           "bgcolor": "white",
           "lakecolor": "white",
           "landcolor": "#E5ECF6",
           "showlakes": true,
           "showland": true,
           "subunitcolor": "white"
          },
          "hoverlabel": {
           "align": "left"
          },
          "hovermode": "closest",
          "mapbox": {
           "style": "light"
          },
          "paper_bgcolor": "white",
          "plot_bgcolor": "#E5ECF6",
          "polar": {
           "angularaxis": {
            "gridcolor": "white",
            "linecolor": "white",
            "ticks": ""
           },
           "bgcolor": "#E5ECF6",
           "radialaxis": {
            "gridcolor": "white",
            "linecolor": "white",
            "ticks": ""
           }
          },
          "scene": {
           "xaxis": {
            "backgroundcolor": "#E5ECF6",
            "gridcolor": "white",
            "gridwidth": 2,
            "linecolor": "white",
            "showbackground": true,
            "ticks": "",
            "zerolinecolor": "white"
           },
           "yaxis": {
            "backgroundcolor": "#E5ECF6",
            "gridcolor": "white",
            "gridwidth": 2,
            "linecolor": "white",
            "showbackground": true,
            "ticks": "",
            "zerolinecolor": "white"
           },
           "zaxis": {
            "backgroundcolor": "#E5ECF6",
            "gridcolor": "white",
            "gridwidth": 2,
            "linecolor": "white",
            "showbackground": true,
            "ticks": "",
            "zerolinecolor": "white"
           }
          },
          "shapedefaults": {
           "line": {
            "color": "#2a3f5f"
           }
          },
          "ternary": {
           "aaxis": {
            "gridcolor": "white",
            "linecolor": "white",
            "ticks": ""
           },
           "baxis": {
            "gridcolor": "white",
            "linecolor": "white",
            "ticks": ""
           },
           "bgcolor": "#E5ECF6",
           "caxis": {
            "gridcolor": "white",
            "linecolor": "white",
            "ticks": ""
           }
          },
          "title": {
           "x": 0.05
          },
          "xaxis": {
           "automargin": true,
           "gridcolor": "white",
           "linecolor": "white",
           "ticks": "",
           "title": {
            "standoff": 15
           },
           "zerolinecolor": "white",
           "zerolinewidth": 2
          },
          "yaxis": {
           "automargin": true,
           "gridcolor": "white",
           "linecolor": "white",
           "ticks": "",
           "title": {
            "standoff": 15
           },
           "zerolinecolor": "white",
           "zerolinewidth": 2
          }
         }
        },
        "title": {
         "font": {
          "color": "Darkred",
          "size": 16
         },
         "text": "COVID-19 Cases in European Countries",
         "x": 0.5
        }
       }
      }
     },
     "metadata": {},
     "output_type": "display_data"
    }
   ],
   "source": [
    "df1 = data_covid.sort_values(by=['Tot Cases/ 1M pop'],ascending = False).reset_index()\n",
    "\n",
    "fig = px.choropleth(df1,\n",
    "                    locations='Country/Other',\n",
    "                    locationmode='country names',\n",
    "                    color='Total Cases',\n",
    "                    scope='europe',\n",
    "                    hover_name='Country/Other',\n",
    "                    color_continuous_scale='reds')\n",
    "\n",
    "\n",
    "fig.update_layout(title= 'COVID-19 Cases in European Countries',\n",
    "                  title_x = 0.5,\n",
    "                  title_font = dict(size = 16, color = 'Darkred'),\n",
    "                  geo = dict(showframe = False,\n",
    "                             showcoastlines = False,\n",
    "                             projection_type = 'equirectangular'))\n",
    "fig.show()"
   ]
  },
  {
   "cell_type": "code",
   "execution_count": 6,
   "metadata": {},
   "outputs": [
    {
     "name": "stdout",
     "output_type": "stream",
     "text": [
      "<class 'pandas.core.frame.DataFrame'>\n",
      "RangeIndex: 47 entries, 0 to 46\n",
      "Data columns (total 11 columns):\n",
      " #   Column             Non-Null Count  Dtype  \n",
      "---  ------             --------------  -----  \n",
      " 0   index              47 non-null     int64  \n",
      " 1   Country/Other      47 non-null     object \n",
      " 2   Total Cases        47 non-null     int64  \n",
      " 3   Total Deaths       47 non-null     int64  \n",
      " 4   Total Recovered    44 non-null     float64\n",
      " 5   Active Cases       44 non-null     float64\n",
      " 6   Tot Cases/ 1M pop  47 non-null     int64  \n",
      " 7   Deaths/ 1M pop     47 non-null     int64  \n",
      " 8   Total Tests        47 non-null     int64  \n",
      " 9   Tests/ 1M pop      47 non-null     int64  \n",
      " 10  Population         47 non-null     int64  \n",
      "dtypes: float64(2), int64(8), object(1)\n",
      "memory usage: 4.2+ KB\n"
     ]
    }
   ],
   "source": [
    "df1.info()"
   ]
  },
  {
   "cell_type": "code",
   "execution_count": 7,
   "metadata": {},
   "outputs": [
    {
     "data": {
      "application/vnd.plotly.v1+json": {
       "config": {
        "plotlyServerURL": "https://plot.ly"
       },
       "data": [
        {
         "alignmentgroup": "True",
         "hovertemplate": "Country/Other=%{x}<br>Total Cases=%{marker.color}<extra></extra>",
         "legendgroup": "",
         "marker": {
          "color": [
           39467281,
           37649808,
           25363742,
           24243393,
           21876336,
           13711251,
           8578818,
           6374645,
           5747540,
           5557941
          ],
          "coloraxis": "coloraxis",
          "pattern": {
           "shape": ""
          }
         },
         "name": "",
         "offsetgroup": "",
         "orientation": "v",
         "showlegend": false,
         "textposition": "auto",
         "type": "bar",
         "x": [
          "France",
          "Germany",
          "Italy",
          "UK",
          "Russia",
          "Spain",
          "Netherlands",
          "Poland",
          "Austria",
          "Portugal"
         ],
         "xaxis": "x",
         "y": [
          39467281,
          37649808,
          25363742,
          24243393,
          21876336,
          13711251,
          8578818,
          6374645,
          5747540,
          5557941
         ],
         "yaxis": "y"
        }
       ],
       "layout": {
        "barmode": "relative",
        "coloraxis": {
         "colorbar": {
          "title": {
           "text": "Total Cases"
          }
         },
         "colorscale": [
          [
           0,
           "rgb(255,245,240)"
          ],
          [
           0.125,
           "rgb(254,224,210)"
          ],
          [
           0.25,
           "rgb(252,187,161)"
          ],
          [
           0.375,
           "rgb(252,146,114)"
          ],
          [
           0.5,
           "rgb(251,106,74)"
          ],
          [
           0.625,
           "rgb(239,59,44)"
          ],
          [
           0.75,
           "rgb(203,24,29)"
          ],
          [
           0.875,
           "rgb(165,15,21)"
          ],
          [
           1,
           "rgb(103,0,13)"
          ]
         ]
        },
        "legend": {
         "tracegroupgap": 0
        },
        "margin": {
         "t": 60
        },
        "template": {
         "data": {
          "bar": [
           {
            "error_x": {
             "color": "#2a3f5f"
            },
            "error_y": {
             "color": "#2a3f5f"
            },
            "marker": {
             "line": {
              "color": "#E5ECF6",
              "width": 0.5
             },
             "pattern": {
              "fillmode": "overlay",
              "size": 10,
              "solidity": 0.2
             }
            },
            "type": "bar"
           }
          ],
          "barpolar": [
           {
            "marker": {
             "line": {
              "color": "#E5ECF6",
              "width": 0.5
             },
             "pattern": {
              "fillmode": "overlay",
              "size": 10,
              "solidity": 0.2
             }
            },
            "type": "barpolar"
           }
          ],
          "carpet": [
           {
            "aaxis": {
             "endlinecolor": "#2a3f5f",
             "gridcolor": "white",
             "linecolor": "white",
             "minorgridcolor": "white",
             "startlinecolor": "#2a3f5f"
            },
            "baxis": {
             "endlinecolor": "#2a3f5f",
             "gridcolor": "white",
             "linecolor": "white",
             "minorgridcolor": "white",
             "startlinecolor": "#2a3f5f"
            },
            "type": "carpet"
           }
          ],
          "choropleth": [
           {
            "colorbar": {
             "outlinewidth": 0,
             "ticks": ""
            },
            "type": "choropleth"
           }
          ],
          "contour": [
           {
            "colorbar": {
             "outlinewidth": 0,
             "ticks": ""
            },
            "colorscale": [
             [
              0,
              "#0d0887"
             ],
             [
              0.1111111111111111,
              "#46039f"
             ],
             [
              0.2222222222222222,
              "#7201a8"
             ],
             [
              0.3333333333333333,
              "#9c179e"
             ],
             [
              0.4444444444444444,
              "#bd3786"
             ],
             [
              0.5555555555555556,
              "#d8576b"
             ],
             [
              0.6666666666666666,
              "#ed7953"
             ],
             [
              0.7777777777777778,
              "#fb9f3a"
             ],
             [
              0.8888888888888888,
              "#fdca26"
             ],
             [
              1,
              "#f0f921"
             ]
            ],
            "type": "contour"
           }
          ],
          "contourcarpet": [
           {
            "colorbar": {
             "outlinewidth": 0,
             "ticks": ""
            },
            "type": "contourcarpet"
           }
          ],
          "heatmap": [
           {
            "colorbar": {
             "outlinewidth": 0,
             "ticks": ""
            },
            "colorscale": [
             [
              0,
              "#0d0887"
             ],
             [
              0.1111111111111111,
              "#46039f"
             ],
             [
              0.2222222222222222,
              "#7201a8"
             ],
             [
              0.3333333333333333,
              "#9c179e"
             ],
             [
              0.4444444444444444,
              "#bd3786"
             ],
             [
              0.5555555555555556,
              "#d8576b"
             ],
             [
              0.6666666666666666,
              "#ed7953"
             ],
             [
              0.7777777777777778,
              "#fb9f3a"
             ],
             [
              0.8888888888888888,
              "#fdca26"
             ],
             [
              1,
              "#f0f921"
             ]
            ],
            "type": "heatmap"
           }
          ],
          "heatmapgl": [
           {
            "colorbar": {
             "outlinewidth": 0,
             "ticks": ""
            },
            "colorscale": [
             [
              0,
              "#0d0887"
             ],
             [
              0.1111111111111111,
              "#46039f"
             ],
             [
              0.2222222222222222,
              "#7201a8"
             ],
             [
              0.3333333333333333,
              "#9c179e"
             ],
             [
              0.4444444444444444,
              "#bd3786"
             ],
             [
              0.5555555555555556,
              "#d8576b"
             ],
             [
              0.6666666666666666,
              "#ed7953"
             ],
             [
              0.7777777777777778,
              "#fb9f3a"
             ],
             [
              0.8888888888888888,
              "#fdca26"
             ],
             [
              1,
              "#f0f921"
             ]
            ],
            "type": "heatmapgl"
           }
          ],
          "histogram": [
           {
            "marker": {
             "pattern": {
              "fillmode": "overlay",
              "size": 10,
              "solidity": 0.2
             }
            },
            "type": "histogram"
           }
          ],
          "histogram2d": [
           {
            "colorbar": {
             "outlinewidth": 0,
             "ticks": ""
            },
            "colorscale": [
             [
              0,
              "#0d0887"
             ],
             [
              0.1111111111111111,
              "#46039f"
             ],
             [
              0.2222222222222222,
              "#7201a8"
             ],
             [
              0.3333333333333333,
              "#9c179e"
             ],
             [
              0.4444444444444444,
              "#bd3786"
             ],
             [
              0.5555555555555556,
              "#d8576b"
             ],
             [
              0.6666666666666666,
              "#ed7953"
             ],
             [
              0.7777777777777778,
              "#fb9f3a"
             ],
             [
              0.8888888888888888,
              "#fdca26"
             ],
             [
              1,
              "#f0f921"
             ]
            ],
            "type": "histogram2d"
           }
          ],
          "histogram2dcontour": [
           {
            "colorbar": {
             "outlinewidth": 0,
             "ticks": ""
            },
            "colorscale": [
             [
              0,
              "#0d0887"
             ],
             [
              0.1111111111111111,
              "#46039f"
             ],
             [
              0.2222222222222222,
              "#7201a8"
             ],
             [
              0.3333333333333333,
              "#9c179e"
             ],
             [
              0.4444444444444444,
              "#bd3786"
             ],
             [
              0.5555555555555556,
              "#d8576b"
             ],
             [
              0.6666666666666666,
              "#ed7953"
             ],
             [
              0.7777777777777778,
              "#fb9f3a"
             ],
             [
              0.8888888888888888,
              "#fdca26"
             ],
             [
              1,
              "#f0f921"
             ]
            ],
            "type": "histogram2dcontour"
           }
          ],
          "mesh3d": [
           {
            "colorbar": {
             "outlinewidth": 0,
             "ticks": ""
            },
            "type": "mesh3d"
           }
          ],
          "parcoords": [
           {
            "line": {
             "colorbar": {
              "outlinewidth": 0,
              "ticks": ""
             }
            },
            "type": "parcoords"
           }
          ],
          "pie": [
           {
            "automargin": true,
            "type": "pie"
           }
          ],
          "scatter": [
           {
            "fillpattern": {
             "fillmode": "overlay",
             "size": 10,
             "solidity": 0.2
            },
            "type": "scatter"
           }
          ],
          "scatter3d": [
           {
            "line": {
             "colorbar": {
              "outlinewidth": 0,
              "ticks": ""
             }
            },
            "marker": {
             "colorbar": {
              "outlinewidth": 0,
              "ticks": ""
             }
            },
            "type": "scatter3d"
           }
          ],
          "scattercarpet": [
           {
            "marker": {
             "colorbar": {
              "outlinewidth": 0,
              "ticks": ""
             }
            },
            "type": "scattercarpet"
           }
          ],
          "scattergeo": [
           {
            "marker": {
             "colorbar": {
              "outlinewidth": 0,
              "ticks": ""
             }
            },
            "type": "scattergeo"
           }
          ],
          "scattergl": [
           {
            "marker": {
             "colorbar": {
              "outlinewidth": 0,
              "ticks": ""
             }
            },
            "type": "scattergl"
           }
          ],
          "scattermapbox": [
           {
            "marker": {
             "colorbar": {
              "outlinewidth": 0,
              "ticks": ""
             }
            },
            "type": "scattermapbox"
           }
          ],
          "scatterpolar": [
           {
            "marker": {
             "colorbar": {
              "outlinewidth": 0,
              "ticks": ""
             }
            },
            "type": "scatterpolar"
           }
          ],
          "scatterpolargl": [
           {
            "marker": {
             "colorbar": {
              "outlinewidth": 0,
              "ticks": ""
             }
            },
            "type": "scatterpolargl"
           }
          ],
          "scatterternary": [
           {
            "marker": {
             "colorbar": {
              "outlinewidth": 0,
              "ticks": ""
             }
            },
            "type": "scatterternary"
           }
          ],
          "surface": [
           {
            "colorbar": {
             "outlinewidth": 0,
             "ticks": ""
            },
            "colorscale": [
             [
              0,
              "#0d0887"
             ],
             [
              0.1111111111111111,
              "#46039f"
             ],
             [
              0.2222222222222222,
              "#7201a8"
             ],
             [
              0.3333333333333333,
              "#9c179e"
             ],
             [
              0.4444444444444444,
              "#bd3786"
             ],
             [
              0.5555555555555556,
              "#d8576b"
             ],
             [
              0.6666666666666666,
              "#ed7953"
             ],
             [
              0.7777777777777778,
              "#fb9f3a"
             ],
             [
              0.8888888888888888,
              "#fdca26"
             ],
             [
              1,
              "#f0f921"
             ]
            ],
            "type": "surface"
           }
          ],
          "table": [
           {
            "cells": {
             "fill": {
              "color": "#EBF0F8"
             },
             "line": {
              "color": "white"
             }
            },
            "header": {
             "fill": {
              "color": "#C8D4E3"
             },
             "line": {
              "color": "white"
             }
            },
            "type": "table"
           }
          ]
         },
         "layout": {
          "annotationdefaults": {
           "arrowcolor": "#2a3f5f",
           "arrowhead": 0,
           "arrowwidth": 1
          },
          "autotypenumbers": "strict",
          "coloraxis": {
           "colorbar": {
            "outlinewidth": 0,
            "ticks": ""
           }
          },
          "colorscale": {
           "diverging": [
            [
             0,
             "#8e0152"
            ],
            [
             0.1,
             "#c51b7d"
            ],
            [
             0.2,
             "#de77ae"
            ],
            [
             0.3,
             "#f1b6da"
            ],
            [
             0.4,
             "#fde0ef"
            ],
            [
             0.5,
             "#f7f7f7"
            ],
            [
             0.6,
             "#e6f5d0"
            ],
            [
             0.7,
             "#b8e186"
            ],
            [
             0.8,
             "#7fbc41"
            ],
            [
             0.9,
             "#4d9221"
            ],
            [
             1,
             "#276419"
            ]
           ],
           "sequential": [
            [
             0,
             "#0d0887"
            ],
            [
             0.1111111111111111,
             "#46039f"
            ],
            [
             0.2222222222222222,
             "#7201a8"
            ],
            [
             0.3333333333333333,
             "#9c179e"
            ],
            [
             0.4444444444444444,
             "#bd3786"
            ],
            [
             0.5555555555555556,
             "#d8576b"
            ],
            [
             0.6666666666666666,
             "#ed7953"
            ],
            [
             0.7777777777777778,
             "#fb9f3a"
            ],
            [
             0.8888888888888888,
             "#fdca26"
            ],
            [
             1,
             "#f0f921"
            ]
           ],
           "sequentialminus": [
            [
             0,
             "#0d0887"
            ],
            [
             0.1111111111111111,
             "#46039f"
            ],
            [
             0.2222222222222222,
             "#7201a8"
            ],
            [
             0.3333333333333333,
             "#9c179e"
            ],
            [
             0.4444444444444444,
             "#bd3786"
            ],
            [
             0.5555555555555556,
             "#d8576b"
            ],
            [
             0.6666666666666666,
             "#ed7953"
            ],
            [
             0.7777777777777778,
             "#fb9f3a"
            ],
            [
             0.8888888888888888,
             "#fdca26"
            ],
            [
             1,
             "#f0f921"
            ]
           ]
          },
          "colorway": [
           "#636efa",
           "#EF553B",
           "#00cc96",
           "#ab63fa",
           "#FFA15A",
           "#19d3f3",
           "#FF6692",
           "#B6E880",
           "#FF97FF",
           "#FECB52"
          ],
          "font": {
           "color": "#2a3f5f"
          },
          "geo": {
           "bgcolor": "white",
           "lakecolor": "white",
           "landcolor": "#E5ECF6",
           "showlakes": true,
           "showland": true,
           "subunitcolor": "white"
          },
          "hoverlabel": {
           "align": "left"
          },
          "hovermode": "closest",
          "mapbox": {
           "style": "light"
          },
          "paper_bgcolor": "white",
          "plot_bgcolor": "#E5ECF6",
          "polar": {
           "angularaxis": {
            "gridcolor": "white",
            "linecolor": "white",
            "ticks": ""
           },
           "bgcolor": "#E5ECF6",
           "radialaxis": {
            "gridcolor": "white",
            "linecolor": "white",
            "ticks": ""
           }
          },
          "scene": {
           "xaxis": {
            "backgroundcolor": "#E5ECF6",
            "gridcolor": "white",
            "gridwidth": 2,
            "linecolor": "white",
            "showbackground": true,
            "ticks": "",
            "zerolinecolor": "white"
           },
           "yaxis": {
            "backgroundcolor": "#E5ECF6",
            "gridcolor": "white",
            "gridwidth": 2,
            "linecolor": "white",
            "showbackground": true,
            "ticks": "",
            "zerolinecolor": "white"
           },
           "zaxis": {
            "backgroundcolor": "#E5ECF6",
            "gridcolor": "white",
            "gridwidth": 2,
            "linecolor": "white",
            "showbackground": true,
            "ticks": "",
            "zerolinecolor": "white"
           }
          },
          "shapedefaults": {
           "line": {
            "color": "#2a3f5f"
           }
          },
          "ternary": {
           "aaxis": {
            "gridcolor": "white",
            "linecolor": "white",
            "ticks": ""
           },
           "baxis": {
            "gridcolor": "white",
            "linecolor": "white",
            "ticks": ""
           },
           "bgcolor": "#E5ECF6",
           "caxis": {
            "gridcolor": "white",
            "linecolor": "white",
            "ticks": ""
           }
          },
          "title": {
           "x": 0.05
          },
          "xaxis": {
           "automargin": true,
           "gridcolor": "white",
           "linecolor": "white",
           "ticks": "",
           "title": {
            "standoff": 15
           },
           "zerolinecolor": "white",
           "zerolinewidth": 2
          },
          "yaxis": {
           "automargin": true,
           "gridcolor": "white",
           "linecolor": "white",
           "ticks": "",
           "title": {
            "standoff": 15
           },
           "zerolinecolor": "white",
           "zerolinewidth": 2
          }
         }
        },
        "title": {
         "font": {
          "color": "DarkRed",
          "size": 16
         },
         "text": "Top 10 countries with the most COVID-19 cases in Europe",
         "x": 0.5
        },
        "xaxis": {
         "anchor": "y",
         "domain": [
          0,
          1
         ],
         "title": {
          "text": "Country/Other"
         }
        },
        "yaxis": {
         "anchor": "x",
         "domain": [
          0,
          1
         ],
         "title": {
          "text": "Total Cases"
         }
        }
       }
      }
     },
     "metadata": {},
     "output_type": "display_data"
    }
   ],
   "source": [
    "df1 = data_covid.sort_values(by = ['Total Cases'],ascending = False).reset_index().head(10)\n",
    "\n",
    "fig = px.bar(df1, x = 'Country/Other', y = 'Total Cases', color = 'Total Cases',\n",
    "             color_continuous_scale = 'reds')\n",
    "\n",
    "fig.update_layout(title = 'Top 10 countries with the most COVID-19 cases in Europe',\n",
    "                  title_x = 0.5,\n",
    "                  title_font = dict(size = 16, color = 'DarkRed'))\n",
    "fig.show()"
   ]
  },
  {
   "cell_type": "code",
   "execution_count": 8,
   "metadata": {},
   "outputs": [
    {
     "data": {
      "application/vnd.plotly.v1+json": {
       "config": {
        "plotlyServerURL": "https://plot.ly"
       },
       "data": [
        {
         "alignmentgroup": "True",
         "hovertemplate": "Country/Other=%{x}<br>Total Deaths=%{marker.color}<extra></extra>",
         "legendgroup": "",
         "marker": {
          "color": [
           394569,
           202157,
           185993,
           164391,
           163644,
           118675,
           117759,
           110920,
           67504,
           48629
          ],
          "coloraxis": "coloraxis",
          "pattern": {
           "shape": ""
          }
         },
         "name": "",
         "offsetgroup": "",
         "orientation": "v",
         "showlegend": false,
         "textposition": "auto",
         "type": "bar",
         "x": [
          "Russia",
          "UK",
          "Italy",
          "Germany",
          "France",
          "Poland",
          "Spain",
          "Ukraine",
          "Romania",
          "Hungary"
         ],
         "xaxis": "x",
         "y": [
          394569,
          202157,
          185993,
          164391,
          163644,
          118675,
          117759,
          110920,
          67504,
          48629
         ],
         "yaxis": "y"
        }
       ],
       "layout": {
        "barmode": "relative",
        "coloraxis": {
         "colorbar": {
          "title": {
           "text": "Total Deaths"
          }
         },
         "colorscale": [
          [
           0,
           "rgb(0, 0, 0)"
          ],
          [
           0.09090909090909091,
           "rgb(16, 16, 16)"
          ],
          [
           0.18181818181818182,
           "rgb(38, 38, 38)"
          ],
          [
           0.2727272727272727,
           "rgb(59, 59, 59)"
          ],
          [
           0.36363636363636365,
           "rgb(81, 80, 80)"
          ],
          [
           0.45454545454545453,
           "rgb(102, 101, 101)"
          ],
          [
           0.5454545454545454,
           "rgb(124, 123, 122)"
          ],
          [
           0.6363636363636364,
           "rgb(146, 146, 145)"
          ],
          [
           0.7272727272727273,
           "rgb(171, 171, 170)"
          ],
          [
           0.8181818181818182,
           "rgb(197, 197, 195)"
          ],
          [
           0.9090909090909091,
           "rgb(224, 224, 223)"
          ],
          [
           1,
           "rgb(254, 254, 253)"
          ]
         ]
        },
        "legend": {
         "tracegroupgap": 0
        },
        "margin": {
         "t": 60
        },
        "template": {
         "data": {
          "bar": [
           {
            "error_x": {
             "color": "#2a3f5f"
            },
            "error_y": {
             "color": "#2a3f5f"
            },
            "marker": {
             "line": {
              "color": "#E5ECF6",
              "width": 0.5
             },
             "pattern": {
              "fillmode": "overlay",
              "size": 10,
              "solidity": 0.2
             }
            },
            "type": "bar"
           }
          ],
          "barpolar": [
           {
            "marker": {
             "line": {
              "color": "#E5ECF6",
              "width": 0.5
             },
             "pattern": {
              "fillmode": "overlay",
              "size": 10,
              "solidity": 0.2
             }
            },
            "type": "barpolar"
           }
          ],
          "carpet": [
           {
            "aaxis": {
             "endlinecolor": "#2a3f5f",
             "gridcolor": "white",
             "linecolor": "white",
             "minorgridcolor": "white",
             "startlinecolor": "#2a3f5f"
            },
            "baxis": {
             "endlinecolor": "#2a3f5f",
             "gridcolor": "white",
             "linecolor": "white",
             "minorgridcolor": "white",
             "startlinecolor": "#2a3f5f"
            },
            "type": "carpet"
           }
          ],
          "choropleth": [
           {
            "colorbar": {
             "outlinewidth": 0,
             "ticks": ""
            },
            "type": "choropleth"
           }
          ],
          "contour": [
           {
            "colorbar": {
             "outlinewidth": 0,
             "ticks": ""
            },
            "colorscale": [
             [
              0,
              "#0d0887"
             ],
             [
              0.1111111111111111,
              "#46039f"
             ],
             [
              0.2222222222222222,
              "#7201a8"
             ],
             [
              0.3333333333333333,
              "#9c179e"
             ],
             [
              0.4444444444444444,
              "#bd3786"
             ],
             [
              0.5555555555555556,
              "#d8576b"
             ],
             [
              0.6666666666666666,
              "#ed7953"
             ],
             [
              0.7777777777777778,
              "#fb9f3a"
             ],
             [
              0.8888888888888888,
              "#fdca26"
             ],
             [
              1,
              "#f0f921"
             ]
            ],
            "type": "contour"
           }
          ],
          "contourcarpet": [
           {
            "colorbar": {
             "outlinewidth": 0,
             "ticks": ""
            },
            "type": "contourcarpet"
           }
          ],
          "heatmap": [
           {
            "colorbar": {
             "outlinewidth": 0,
             "ticks": ""
            },
            "colorscale": [
             [
              0,
              "#0d0887"
             ],
             [
              0.1111111111111111,
              "#46039f"
             ],
             [
              0.2222222222222222,
              "#7201a8"
             ],
             [
              0.3333333333333333,
              "#9c179e"
             ],
             [
              0.4444444444444444,
              "#bd3786"
             ],
             [
              0.5555555555555556,
              "#d8576b"
             ],
             [
              0.6666666666666666,
              "#ed7953"
             ],
             [
              0.7777777777777778,
              "#fb9f3a"
             ],
             [
              0.8888888888888888,
              "#fdca26"
             ],
             [
              1,
              "#f0f921"
             ]
            ],
            "type": "heatmap"
           }
          ],
          "heatmapgl": [
           {
            "colorbar": {
             "outlinewidth": 0,
             "ticks": ""
            },
            "colorscale": [
             [
              0,
              "#0d0887"
             ],
             [
              0.1111111111111111,
              "#46039f"
             ],
             [
              0.2222222222222222,
              "#7201a8"
             ],
             [
              0.3333333333333333,
              "#9c179e"
             ],
             [
              0.4444444444444444,
              "#bd3786"
             ],
             [
              0.5555555555555556,
              "#d8576b"
             ],
             [
              0.6666666666666666,
              "#ed7953"
             ],
             [
              0.7777777777777778,
              "#fb9f3a"
             ],
             [
              0.8888888888888888,
              "#fdca26"
             ],
             [
              1,
              "#f0f921"
             ]
            ],
            "type": "heatmapgl"
           }
          ],
          "histogram": [
           {
            "marker": {
             "pattern": {
              "fillmode": "overlay",
              "size": 10,
              "solidity": 0.2
             }
            },
            "type": "histogram"
           }
          ],
          "histogram2d": [
           {
            "colorbar": {
             "outlinewidth": 0,
             "ticks": ""
            },
            "colorscale": [
             [
              0,
              "#0d0887"
             ],
             [
              0.1111111111111111,
              "#46039f"
             ],
             [
              0.2222222222222222,
              "#7201a8"
             ],
             [
              0.3333333333333333,
              "#9c179e"
             ],
             [
              0.4444444444444444,
              "#bd3786"
             ],
             [
              0.5555555555555556,
              "#d8576b"
             ],
             [
              0.6666666666666666,
              "#ed7953"
             ],
             [
              0.7777777777777778,
              "#fb9f3a"
             ],
             [
              0.8888888888888888,
              "#fdca26"
             ],
             [
              1,
              "#f0f921"
             ]
            ],
            "type": "histogram2d"
           }
          ],
          "histogram2dcontour": [
           {
            "colorbar": {
             "outlinewidth": 0,
             "ticks": ""
            },
            "colorscale": [
             [
              0,
              "#0d0887"
             ],
             [
              0.1111111111111111,
              "#46039f"
             ],
             [
              0.2222222222222222,
              "#7201a8"
             ],
             [
              0.3333333333333333,
              "#9c179e"
             ],
             [
              0.4444444444444444,
              "#bd3786"
             ],
             [
              0.5555555555555556,
              "#d8576b"
             ],
             [
              0.6666666666666666,
              "#ed7953"
             ],
             [
              0.7777777777777778,
              "#fb9f3a"
             ],
             [
              0.8888888888888888,
              "#fdca26"
             ],
             [
              1,
              "#f0f921"
             ]
            ],
            "type": "histogram2dcontour"
           }
          ],
          "mesh3d": [
           {
            "colorbar": {
             "outlinewidth": 0,
             "ticks": ""
            },
            "type": "mesh3d"
           }
          ],
          "parcoords": [
           {
            "line": {
             "colorbar": {
              "outlinewidth": 0,
              "ticks": ""
             }
            },
            "type": "parcoords"
           }
          ],
          "pie": [
           {
            "automargin": true,
            "type": "pie"
           }
          ],
          "scatter": [
           {
            "fillpattern": {
             "fillmode": "overlay",
             "size": 10,
             "solidity": 0.2
            },
            "type": "scatter"
           }
          ],
          "scatter3d": [
           {
            "line": {
             "colorbar": {
              "outlinewidth": 0,
              "ticks": ""
             }
            },
            "marker": {
             "colorbar": {
              "outlinewidth": 0,
              "ticks": ""
             }
            },
            "type": "scatter3d"
           }
          ],
          "scattercarpet": [
           {
            "marker": {
             "colorbar": {
              "outlinewidth": 0,
              "ticks": ""
             }
            },
            "type": "scattercarpet"
           }
          ],
          "scattergeo": [
           {
            "marker": {
             "colorbar": {
              "outlinewidth": 0,
              "ticks": ""
             }
            },
            "type": "scattergeo"
           }
          ],
          "scattergl": [
           {
            "marker": {
             "colorbar": {
              "outlinewidth": 0,
              "ticks": ""
             }
            },
            "type": "scattergl"
           }
          ],
          "scattermapbox": [
           {
            "marker": {
             "colorbar": {
              "outlinewidth": 0,
              "ticks": ""
             }
            },
            "type": "scattermapbox"
           }
          ],
          "scatterpolar": [
           {
            "marker": {
             "colorbar": {
              "outlinewidth": 0,
              "ticks": ""
             }
            },
            "type": "scatterpolar"
           }
          ],
          "scatterpolargl": [
           {
            "marker": {
             "colorbar": {
              "outlinewidth": 0,
              "ticks": ""
             }
            },
            "type": "scatterpolargl"
           }
          ],
          "scatterternary": [
           {
            "marker": {
             "colorbar": {
              "outlinewidth": 0,
              "ticks": ""
             }
            },
            "type": "scatterternary"
           }
          ],
          "surface": [
           {
            "colorbar": {
             "outlinewidth": 0,
             "ticks": ""
            },
            "colorscale": [
             [
              0,
              "#0d0887"
             ],
             [
              0.1111111111111111,
              "#46039f"
             ],
             [
              0.2222222222222222,
              "#7201a8"
             ],
             [
              0.3333333333333333,
              "#9c179e"
             ],
             [
              0.4444444444444444,
              "#bd3786"
             ],
             [
              0.5555555555555556,
              "#d8576b"
             ],
             [
              0.6666666666666666,
              "#ed7953"
             ],
             [
              0.7777777777777778,
              "#fb9f3a"
             ],
             [
              0.8888888888888888,
              "#fdca26"
             ],
             [
              1,
              "#f0f921"
             ]
            ],
            "type": "surface"
           }
          ],
          "table": [
           {
            "cells": {
             "fill": {
              "color": "#EBF0F8"
             },
             "line": {
              "color": "white"
             }
            },
            "header": {
             "fill": {
              "color": "#C8D4E3"
             },
             "line": {
              "color": "white"
             }
            },
            "type": "table"
           }
          ]
         },
         "layout": {
          "annotationdefaults": {
           "arrowcolor": "#2a3f5f",
           "arrowhead": 0,
           "arrowwidth": 1
          },
          "autotypenumbers": "strict",
          "coloraxis": {
           "colorbar": {
            "outlinewidth": 0,
            "ticks": ""
           }
          },
          "colorscale": {
           "diverging": [
            [
             0,
             "#8e0152"
            ],
            [
             0.1,
             "#c51b7d"
            ],
            [
             0.2,
             "#de77ae"
            ],
            [
             0.3,
             "#f1b6da"
            ],
            [
             0.4,
             "#fde0ef"
            ],
            [
             0.5,
             "#f7f7f7"
            ],
            [
             0.6,
             "#e6f5d0"
            ],
            [
             0.7,
             "#b8e186"
            ],
            [
             0.8,
             "#7fbc41"
            ],
            [
             0.9,
             "#4d9221"
            ],
            [
             1,
             "#276419"
            ]
           ],
           "sequential": [
            [
             0,
             "#0d0887"
            ],
            [
             0.1111111111111111,
             "#46039f"
            ],
            [
             0.2222222222222222,
             "#7201a8"
            ],
            [
             0.3333333333333333,
             "#9c179e"
            ],
            [
             0.4444444444444444,
             "#bd3786"
            ],
            [
             0.5555555555555556,
             "#d8576b"
            ],
            [
             0.6666666666666666,
             "#ed7953"
            ],
            [
             0.7777777777777778,
             "#fb9f3a"
            ],
            [
             0.8888888888888888,
             "#fdca26"
            ],
            [
             1,
             "#f0f921"
            ]
           ],
           "sequentialminus": [
            [
             0,
             "#0d0887"
            ],
            [
             0.1111111111111111,
             "#46039f"
            ],
            [
             0.2222222222222222,
             "#7201a8"
            ],
            [
             0.3333333333333333,
             "#9c179e"
            ],
            [
             0.4444444444444444,
             "#bd3786"
            ],
            [
             0.5555555555555556,
             "#d8576b"
            ],
            [
             0.6666666666666666,
             "#ed7953"
            ],
            [
             0.7777777777777778,
             "#fb9f3a"
            ],
            [
             0.8888888888888888,
             "#fdca26"
            ],
            [
             1,
             "#f0f921"
            ]
           ]
          },
          "colorway": [
           "#636efa",
           "#EF553B",
           "#00cc96",
           "#ab63fa",
           "#FFA15A",
           "#19d3f3",
           "#FF6692",
           "#B6E880",
           "#FF97FF",
           "#FECB52"
          ],
          "font": {
           "color": "#2a3f5f"
          },
          "geo": {
           "bgcolor": "white",
           "lakecolor": "white",
           "landcolor": "#E5ECF6",
           "showlakes": true,
           "showland": true,
           "subunitcolor": "white"
          },
          "hoverlabel": {
           "align": "left"
          },
          "hovermode": "closest",
          "mapbox": {
           "style": "light"
          },
          "paper_bgcolor": "white",
          "plot_bgcolor": "#E5ECF6",
          "polar": {
           "angularaxis": {
            "gridcolor": "white",
            "linecolor": "white",
            "ticks": ""
           },
           "bgcolor": "#E5ECF6",
           "radialaxis": {
            "gridcolor": "white",
            "linecolor": "white",
            "ticks": ""
           }
          },
          "scene": {
           "xaxis": {
            "backgroundcolor": "#E5ECF6",
            "gridcolor": "white",
            "gridwidth": 2,
            "linecolor": "white",
            "showbackground": true,
            "ticks": "",
            "zerolinecolor": "white"
           },
           "yaxis": {
            "backgroundcolor": "#E5ECF6",
            "gridcolor": "white",
            "gridwidth": 2,
            "linecolor": "white",
            "showbackground": true,
            "ticks": "",
            "zerolinecolor": "white"
           },
           "zaxis": {
            "backgroundcolor": "#E5ECF6",
            "gridcolor": "white",
            "gridwidth": 2,
            "linecolor": "white",
            "showbackground": true,
            "ticks": "",
            "zerolinecolor": "white"
           }
          },
          "shapedefaults": {
           "line": {
            "color": "#2a3f5f"
           }
          },
          "ternary": {
           "aaxis": {
            "gridcolor": "white",
            "linecolor": "white",
            "ticks": ""
           },
           "baxis": {
            "gridcolor": "white",
            "linecolor": "white",
            "ticks": ""
           },
           "bgcolor": "#E5ECF6",
           "caxis": {
            "gridcolor": "white",
            "linecolor": "white",
            "ticks": ""
           }
          },
          "title": {
           "x": 0.05
          },
          "xaxis": {
           "automargin": true,
           "gridcolor": "white",
           "linecolor": "white",
           "ticks": "",
           "title": {
            "standoff": 15
           },
           "zerolinecolor": "white",
           "zerolinewidth": 2
          },
          "yaxis": {
           "automargin": true,
           "gridcolor": "white",
           "linecolor": "white",
           "ticks": "",
           "title": {
            "standoff": 15
           },
           "zerolinecolor": "white",
           "zerolinewidth": 2
          }
         }
        },
        "title": {
         "font": {
          "color": "Black",
          "size": 16
         },
         "text": "Top 10 countries with the most COVID-19 Deaths in Europe",
         "x": 0.5
        },
        "xaxis": {
         "anchor": "y",
         "domain": [
          0,
          1
         ],
         "title": {
          "text": "Country/Other"
         }
        },
        "yaxis": {
         "anchor": "x",
         "domain": [
          0,
          1
         ],
         "title": {
          "text": "Total Deaths"
         }
        }
       }
      }
     },
     "metadata": {},
     "output_type": "display_data"
    }
   ],
   "source": [
    "df1 = data_covid.sort_values(by = ['Total Deaths'],ascending = False).reset_index().head(10)\n",
    "\n",
    "fig = px.bar(df1, x= 'Country/Other', \n",
    "             y ='Total Deaths', \n",
    "             color = 'Total Deaths',\n",
    "             color_continuous_scale = 'gray')\n",
    "\n",
    "fig.update_layout(title = 'Top 10 countries with the most COVID-19 Deaths in Europe',\n",
    "                  title_x = 0.5,\n",
    "                  title_font = dict(size = 16, color = 'Black'))\n",
    "fig.show()"
   ]
  },
  {
   "cell_type": "code",
   "execution_count": 9,
   "metadata": {},
   "outputs": [
    {
     "name": "stderr",
     "output_type": "stream",
     "text": [
      "C:\\Users\\Admin\\AppData\\Local\\Temp\\ipykernel_19188\\1817871681.py:7: DtypeWarning:\n",
      "\n",
      "Columns (33) have mixed types. Specify dtype option on import or set low_memory=False.\n",
      "\n"
     ]
    },
    {
     "data": {
      "image/png": "[encoded data removed]",
      "text/plain": [
       "<Figure size 640x480 with 1 Axes>"
      ]
     },
     "metadata": {},
     "output_type": "display_data"
    }
   ],
   "source": [
    "# Import des bibliothèques\n",
    "import pandas as pd\n",
    "import matplotlib.pyplot as plt\n",
    "from sklearn.linear_model import LinearRegression\n",
    "\n",
    "# Chargement des données de cas de COVID-19 en France\n",
    "data_cases = pd.read_csv('https://raw.githubusercontent.com/owid/covid-19-data/master/public/data/owid-covid-data.csv')\n",
    "data_cases = data_cases[data_cases['location']=='France'][['date', 'total_cases']]\n",
    "data_cases = data_cases.dropna()\n",
    "\n",
    "# Chargement des données de vaccination COVID-19 en France\n",
    "data_vaccinations = pd.read_csv('https://raw.githubusercontent.com/owid/covid-19-data/master/public/data/vaccinations/country_data/France.csv')\n",
    "data_vaccinations = data_vaccinations[['date', 'people_vaccinated']]\n",
    "data_vaccinations = data_vaccinations.dropna()\n",
    "\n",
    "# Joindre les données de cas et de vaccination en utilisant la date comme clé\n",
    "data = pd.merge(data_cases, data_vaccinations, on='date')\n",
    "\n",
    "# Préparation des données pour la régression linéaire\n",
    "X = data[['total_cases']]\n",
    "y = data['people_vaccinated']\n",
    "\n",
    "# Création et entraînement du modèle de régression linéaire\n",
    "reg = LinearRegression()\n",
    "reg.fit(X, y)\n",
    "\n",
    "# Prédiction du nombre de personnes vaccinées\n",
    "predicted_vaccinations = reg.predict(X)\n",
    "\n",
    "# Affichage du graphique des données et de la régression linéaire\n",
    "plt.scatter(X, y)\n",
    "plt.plot(X, predicted_vaccinations, color='red')\n",
    "plt.title('Régression linéaire du nombre de vaccinations en France par rapport aux cas totaux de COVID-19')\n",
    "plt.xlabel('Nombre total de cas de COVID-19')\n",
    "plt.ylabel('Nombre total de personnes vaccinées')\n",
    "plt.show()\n",
    "\n"
   ]
  },
  {
   "cell_type": "code",
   "execution_count": 10,
   "metadata": {},
   "outputs": [
    {
     "name": "stdout",
     "output_type": "stream",
     "text": [
      "Mean Absolute Error for France: 1707883.11\n",
      "         Date  Predicted_Confirmed\n",
      "0  2023-01-01             41907127\n",
      "1  2023-01-02             41970230\n",
      "2  2023-01-03             42033334\n",
      "3  2023-01-04             42096437\n",
      "4  2023-01-05             42159540\n",
      "5  2023-01-06             42222643\n",
      "6  2023-01-07             42285747\n",
      "7  2023-01-08             42348850\n",
      "8  2023-01-09             42411953\n",
      "9  2023-01-10             42475057\n",
      "10 2023-01-11             42538160\n",
      "11 2023-01-12             42601263\n",
      "12 2023-01-13             42664367\n",
      "13 2023-01-14             42727470\n",
      "14 2023-01-15             42790573\n",
      "15 2023-01-16             42853677\n",
      "16 2023-01-17             42916780\n",
      "17 2023-01-18             42979883\n",
      "18 2023-01-19             43042986\n",
      "19 2023-01-20             43106090\n",
      "20 2023-01-21             43169193\n",
      "21 2023-01-22             43232296\n",
      "22 2023-01-23             43295400\n",
      "23 2023-01-24             43358503\n",
      "24 2023-01-25             43421606\n",
      "25 2023-01-26             43484710\n",
      "26 2023-01-27             43547813\n",
      "27 2023-01-28             43610916\n",
      "28 2023-01-29             43674020\n",
      "29 2023-01-30             43737123\n"
     ]
    }
   ],
   "source": [
    "import pandas as pd\n",
    "import numpy as np\n",
    "from datetime import datetime\n",
    "from sklearn.model_selection import train_test_split\n",
    "from sklearn.linear_model import LinearRegression\n",
    "from sklearn.metrics import mean_absolute_error\n",
    "\n",
    "# Charger les données du COVID-19\n",
    "url = \"https://raw.githubusercontent.com/CSSEGISandData/COVID-19/master/csse_covid_19_data/csse_covid_19_time_series/time_series_covid19_confirmed_global.csv\"\n",
    "data = pd.read_csv(url)\n",
    "\n",
    "# Prétraitement des données\n",
    "data = data.drop([\"Province/State\", \"Lat\", \"Long\"], axis=1)\n",
    "data = data.groupby(\"Country/Region\").sum().reset_index()\n",
    "data = data.melt(id_vars=[\"Country/Region\"], var_name=\"Date\", value_name=\"Confirmed\")\n",
    "data[\"Date\"] = pd.to_datetime(data[\"Date\"])\n",
    "\n",
    "# Sélectionnez les données pour 2023\n",
    "start_date = datetime(2022, 1, 1)\n",
    "end_date = datetime(2022, 12, 31)\n",
    "data_2023 = data.loc[(data[\"Date\"] >= start_date) & (data[\"Date\"] <= end_date)]\n",
    "\n",
    "# Prédictions pour un pays spécifique (par exemple, la France)\n",
    "country = \"France\"\n",
    "data_country = data_2023[data_2023[\"Country/Region\"] == country]\n",
    "data_country = data_country.set_index(\"Date\")\n",
    "\n",
    "# Création des variables de prédiction\n",
    "X = (data_country.index - data_country.index.min()).days.values.reshape(-1, 1)\n",
    "y = data_country[\"Confirmed\"].values\n",
    "\n",
    "# Diviser les données en ensembles de formation et de test\n",
    "X_train, X_test, y_train, y_test = train_test_split(X, y, test_size=0.2, random_state=42)\n",
    "\n",
    "# Modèle de régression linéaire\n",
    "model = LinearRegression()\n",
    "model.fit(X_train, y_train)\n",
    "\n",
    "# Prédictions et évaluation du modèle\n",
    "y_pred = model.predict(X_test)\n",
    "mae = mean_absolute_error(y_test, y_pred)\n",
    "print(f\"Mean Absolute Error for {country}: {mae:.2f}\")\n",
    "\n",
    "# Faire des prédictions pour des dates futures\n",
    "future_dates = pd.date_range(end_date + pd.DateOffset(days=1), end_date + pd.DateOffset(days=30))\n",
    "X_future = (future_dates - data_country.index.min()).days.values.reshape(-1, 1)\n",
    "y_future_pred = model.predict(X_future)\n",
    "\n",
    "# Arrondir les prédictions à l'entier le plus proche et les convertir en entiers\n",
    "y_future_pred_rounded = np.round(y_future_pred).astype(int)\n",
    "\n",
    "# Afficher les prédictions\n",
    "predictions = pd.DataFrame({\"Date\": future_dates, \"Predicted_Confirmed\": y_future_pred_rounded})\n",
    "print(predictions)\n",
    "\n"
   ]
  },
  {
   "cell_type": "code",
   "execution_count": 11,
   "metadata": {},
   "outputs": [
    {
     "name": "stdout",
     "output_type": "stream",
     "text": [
      "Predicted number of people vaccinated in the world by 2023-12-31: 17.03 billion\n"
     ]
    },
    {
     "name": "stderr",
     "output_type": "stream",
     "text": [
      "C:\\Users\\Admin\\AppData\\Local\\Temp\\ipykernel_19188\\3964899750.py:27: RuntimeWarning:\n",
      "\n",
      "overflow encountered in exp\n",
      "\n"
     ]
    },
    {
     "data": {
      "image/png": "[encoded data removed]",
      "text/plain": [
       "<Figure size 1200x600 with 1 Axes>"
      ]
     },
     "metadata": {},
     "output_type": "display_data"
    }
   ],
   "source": [
    "import pandas as pd\n",
    "import numpy as np\n",
    "from datetime import datetime\n",
    "from scipy.optimize import curve_fit\n",
    "import matplotlib.pyplot as plt\n",
    "\n",
    "# Lire les données du fichier CSV\n",
    "url = \"https://raw.githubusercontent.com/owid/covid-19-data/master/public/data/vaccinations/vaccinations.csv\"\n",
    "data = pd.read_csv(url)\n",
    "\n",
    "# Convertir les dates en format datetime\n",
    "data[\"date\"] = pd.to_datetime(data[\"date\"])\n",
    "\n",
    "# Filtrer les données jusqu'à 2021\n",
    "data = data[data[\"date\"] < datetime(2022, 1, 1)]\n",
    "\n",
    "# Aggréger les données mondiales\n",
    "world_data = data.groupby(\"date\").agg({\"people_vaccinated\": \"sum\"}).reset_index()\n",
    "\n",
    "# Préparer les données pour la régression\n",
    "world_data[\"days_since_start\"] = (world_data[\"date\"] - world_data[\"date\"].min()).dt.days\n",
    "X = world_data[\"days_since_start\"].values\n",
    "y = world_data[\"people_vaccinated\"].values\n",
    "\n",
    "# Fonction de croissance logistique\n",
    "def logistic_model(x, a, b, c):\n",
    "    return c / (1 + np.exp(-(x - b) / a))\n",
    "\n",
    "# Estimer les paramètres du modèle de croissance loagistique\n",
    "initial_parameters = [2, 100, 2000]\n",
    "params, _ = curve_fit(logistic_model, X, y, p0=initial_parameters)\n",
    "\n",
    "# Faire des prédictions pour la fin de 2023\n",
    "future_date = datetime(2023, 12, 31)\n",
    "days_since_start_2023 = (future_date - world_data[\"date\"].min()).days\n",
    "X_future = np.array([days_since_start_2023])\n",
    "y_future_pred = logistic_model(X_future, *params)\n",
    "\n",
    "number_vaccinated = y_future_pred[0]\n",
    "formatted_number = f\"{number_vaccinated / 1e9:.2f} billion\" if number_vaccinated >= 1e9 else f\"{number_vaccinated / 1e6:.2f} million\"\n",
    "\n",
    "print(f\"Predicted number of people vaccinated in the world by {future_date.strftime('%Y-%m-%d')}: {formatted_number}\")\n",
    "\n",
    "# Visualiser les données et les prédictions\n",
    "plt.figure(figsize=(12, 6))\n",
    "plt.scatter(X, y, label=\"Data\")\n",
    "plt.plot(np.arange(max(X) + 100), logistic_model(np.arange(max(X) + 100), *params), 'r-', label=\"Fitted logistic model\")\n",
    "plt.axvline(X_future, linestyle=\"--\", color=\"gray\", label=\"End of 2023\")\n",
    "plt.scatter(X_future, y_future_pred, marker=\"o\", color=\"red\", label=\"Prediction for end of 2023\")\n",
    "plt.xlabel(\"Days since start\")\n",
    "plt.ylabel(\"Number of people vaccinated\")\n",
    "plt.legend()\n",
    "plt.show()\n"
   ]
  },
  {
   "cell_type": "code",
   "execution_count": 12,
   "metadata": {},
   "outputs": [
    {
     "data": {
      "text/html": [
       "<div>\n",
       "<style scoped>\n",
       "    .dataframe tbody tr th:only-of-type {\n",
       "        vertical-align: middle;\n",
       "    }\n",
       "\n",
       "    .dataframe tbody tr th {\n",
       "        vertical-align: top;\n",
       "    }\n",
       "\n",
       "    .dataframe thead th {\n",
       "        text-align: right;\n",
       "    }\n",
       "</style>\n",
       "<table border=\"1\" class=\"dataframe\">\n",
       "  <thead>\n",
       "    <tr style=\"text-align: right;\">\n",
       "      <th></th>\n",
       "      <th>Entity</th>\n",
       "      <th>Code</th>\n",
       "      <th>Year</th>\n",
       "      <th>rate over65</th>\n",
       "    </tr>\n",
       "  </thead>\n",
       "  <tbody>\n",
       "    <tr>\n",
       "      <th>0</th>\n",
       "      <td>Afghanistan</td>\n",
       "      <td>AFG</td>\n",
       "      <td>2011</td>\n",
       "      <td>62.57</td>\n",
       "    </tr>\n",
       "    <tr>\n",
       "      <th>1</th>\n",
       "      <td>Africa</td>\n",
       "      <td>NaN</td>\n",
       "      <td>2011</td>\n",
       "      <td>63.92</td>\n",
       "    </tr>\n",
       "    <tr>\n",
       "      <th>2</th>\n",
       "      <td>Albania</td>\n",
       "      <td>ALB</td>\n",
       "      <td>2011</td>\n",
       "      <td>29.59</td>\n",
       "    </tr>\n",
       "    <tr>\n",
       "      <th>3</th>\n",
       "      <td>Algeria</td>\n",
       "      <td>DZA</td>\n",
       "      <td>2011</td>\n",
       "      <td>54.98</td>\n",
       "    </tr>\n",
       "    <tr>\n",
       "      <th>4</th>\n",
       "      <td>Americas</td>\n",
       "      <td>NaN</td>\n",
       "      <td>2011</td>\n",
       "      <td>53.60</td>\n",
       "    </tr>\n",
       "    <tr>\n",
       "      <th>...</th>\n",
       "      <td>...</td>\n",
       "      <td>...</td>\n",
       "      <td>...</td>\n",
       "      <td>...</td>\n",
       "    </tr>\n",
       "    <tr>\n",
       "      <th>195</th>\n",
       "      <td>Western Pacific</td>\n",
       "      <td>NaN</td>\n",
       "      <td>2011</td>\n",
       "      <td>43.45</td>\n",
       "    </tr>\n",
       "    <tr>\n",
       "      <th>196</th>\n",
       "      <td>World</td>\n",
       "      <td>OWID_WRL</td>\n",
       "      <td>2011</td>\n",
       "      <td>53.40</td>\n",
       "    </tr>\n",
       "    <tr>\n",
       "      <th>197</th>\n",
       "      <td>Yemen</td>\n",
       "      <td>YEM</td>\n",
       "      <td>2011</td>\n",
       "      <td>58.73</td>\n",
       "    </tr>\n",
       "    <tr>\n",
       "      <th>198</th>\n",
       "      <td>Zambia</td>\n",
       "      <td>ZMB</td>\n",
       "      <td>2011</td>\n",
       "      <td>54.65</td>\n",
       "    </tr>\n",
       "    <tr>\n",
       "      <th>199</th>\n",
       "      <td>Zimbabwe</td>\n",
       "      <td>ZWE</td>\n",
       "      <td>2011</td>\n",
       "      <td>42.33</td>\n",
       "    </tr>\n",
       "  </tbody>\n",
       "</table>\n",
       "<p>200 rows × 4 columns</p>\n",
       "</div>"
      ],
      "text/plain": [
       "              Entity      Code  Year  rate over65\n",
       "0        Afghanistan       AFG  2011        62.57\n",
       "1             Africa       NaN  2011        63.92\n",
       "2            Albania       ALB  2011        29.59\n",
       "3            Algeria       DZA  2011        54.98\n",
       "4           Americas       NaN  2011        53.60\n",
       "..               ...       ...   ...          ...\n",
       "195  Western Pacific       NaN  2011        43.45\n",
       "196            World  OWID_WRL  2011        53.40\n",
       "197            Yemen       YEM  2011        58.73\n",
       "198           Zambia       ZMB  2011        54.65\n",
       "199         Zimbabwe       ZWE  2011        42.33\n",
       "\n",
       "[200 rows x 4 columns]"
      ]
     },
     "execution_count": 12,
     "metadata": {},
     "output_type": "execute_result"
    }
   ],
   "source": [
    "data_grippe = pd.read_csv(\"grippe2.csv\",delimiter = \",\")\n",
    "data_grippe"
   ]
  },
  {
   "cell_type": "code",
   "execution_count": 13,
   "metadata": {},
   "outputs": [
    {
     "data": {
      "application/vnd.plotly.v1+json": {
       "config": {
        "plotlyServerURL": "https://plot.ly"
       },
       "data": [
        {
         "alignmentgroup": "True",
         "hovertemplate": "Entity=%{x}<br>rate over65=%{marker.color}<extra></extra>",
         "legendgroup": "",
         "marker": {
          "color": [
           108.62,
           102.75,
           92.08,
           82.98,
           81.65,
           78.57,
           75.28,
           74.48,
           73.86,
           73.83
          ],
          "coloraxis": "coloraxis",
          "pattern": {
           "shape": ""
          }
         },
         "name": "",
         "offsetgroup": "",
         "orientation": "v",
         "showlegend": false,
         "textposition": "auto",
         "type": "bar",
         "x": [
          "Macao",
          "Argentina",
          "Singapore",
          "Timor",
          "Chile",
          "Indonesia",
          "Sierra Leone",
          "Bangladesh",
          "Gabon",
          "Angola"
         ],
         "xaxis": "x",
         "y": [
          108.62,
          102.75,
          92.08,
          82.98,
          81.65,
          78.57,
          75.28,
          74.48,
          73.86,
          73.83
         ],
         "yaxis": "y"
        }
       ],
       "layout": {
        "barmode": "relative",
        "coloraxis": {
         "colorbar": {
          "title": {
           "text": "rate over65"
          }
         },
         "colorscale": [
          [
           0,
           "rgb(255,245,240)"
          ],
          [
           0.125,
           "rgb(254,224,210)"
          ],
          [
           0.25,
           "rgb(252,187,161)"
          ],
          [
           0.375,
           "rgb(252,146,114)"
          ],
          [
           0.5,
           "rgb(251,106,74)"
          ],
          [
           0.625,
           "rgb(239,59,44)"
          ],
          [
           0.75,
           "rgb(203,24,29)"
          ],
          [
           0.875,
           "rgb(165,15,21)"
          ],
          [
           1,
           "rgb(103,0,13)"
          ]
         ]
        },
        "legend": {
         "tracegroupgap": 0
        },
        "margin": {
         "t": 60
        },
        "template": {
         "data": {
          "bar": [
           {
            "error_x": {
             "color": "#2a3f5f"
            },
            "error_y": {
             "color": "#2a3f5f"
            },
            "marker": {
             "line": {
              "color": "#E5ECF6",
              "width": 0.5
             },
             "pattern": {
              "fillmode": "overlay",
              "size": 10,
              "solidity": 0.2
             }
            },
            "type": "bar"
           }
          ],
          "barpolar": [
           {
            "marker": {
             "line": {
              "color": "#E5ECF6",
              "width": 0.5
             },
             "pattern": {
              "fillmode": "overlay",
              "size": 10,
              "solidity": 0.2
             }
            },
            "type": "barpolar"
           }
          ],
          "carpet": [
           {
            "aaxis": {
             "endlinecolor": "#2a3f5f",
             "gridcolor": "white",
             "linecolor": "white",
             "minorgridcolor": "white",
             "startlinecolor": "#2a3f5f"
            },
            "baxis": {
             "endlinecolor": "#2a3f5f",
             "gridcolor": "white",
             "linecolor": "white",
             "minorgridcolor": "white",
             "startlinecolor": "#2a3f5f"
            },
            "type": "carpet"
           }
          ],
          "choropleth": [
           {
            "colorbar": {
             "outlinewidth": 0,
             "ticks": ""
            },
            "type": "choropleth"
           }
          ],
          "contour": [
           {
            "colorbar": {
             "outlinewidth": 0,
             "ticks": ""
            },
            "colorscale": [
             [
              0,
              "#0d0887"
             ],
             [
              0.1111111111111111,
              "#46039f"
             ],
             [
              0.2222222222222222,
              "#7201a8"
             ],
             [
              0.3333333333333333,
              "#9c179e"
             ],
             [
              0.4444444444444444,
              "#bd3786"
             ],
             [
              0.5555555555555556,
              "#d8576b"
             ],
             [
              0.6666666666666666,
              "#ed7953"
             ],
             [
              0.7777777777777778,
              "#fb9f3a"
             ],
             [
              0.8888888888888888,
              "#fdca26"
             ],
             [
              1,
              "#f0f921"
             ]
            ],
            "type": "contour"
           }
          ],
          "contourcarpet": [
           {
            "colorbar": {
             "outlinewidth": 0,
             "ticks": ""
            },
            "type": "contourcarpet"
           }
          ],
          "heatmap": [
           {
            "colorbar": {
             "outlinewidth": 0,
             "ticks": ""
            },
            "colorscale": [
             [
              0,
              "#0d0887"
             ],
             [
              0.1111111111111111,
              "#46039f"
             ],
             [
              0.2222222222222222,
              "#7201a8"
             ],
             [
              0.3333333333333333,
              "#9c179e"
             ],
             [
              0.4444444444444444,
              "#bd3786"
             ],
             [
              0.5555555555555556,
              "#d8576b"
             ],
             [
              0.6666666666666666,
              "#ed7953"
             ],
             [
              0.7777777777777778,
              "#fb9f3a"
             ],
             [
              0.8888888888888888,
              "#fdca26"
             ],
             [
              1,
              "#f0f921"
             ]
            ],
            "type": "heatmap"
           }
          ],
          "heatmapgl": [
           {
            "colorbar": {
             "outlinewidth": 0,
             "ticks": ""
            },
            "colorscale": [
             [
              0,
              "#0d0887"
             ],
             [
              0.1111111111111111,
              "#46039f"
             ],
             [
              0.2222222222222222,
              "#7201a8"
             ],
             [
              0.3333333333333333,
              "#9c179e"
             ],
             [
              0.4444444444444444,
              "#bd3786"
             ],
             [
              0.5555555555555556,
              "#d8576b"
             ],
             [
              0.6666666666666666,
              "#ed7953"
             ],
             [
              0.7777777777777778,
              "#fb9f3a"
             ],
             [
              0.8888888888888888,
              "#fdca26"
             ],
             [
              1,
              "#f0f921"
             ]
            ],
            "type": "heatmapgl"
           }
          ],
          "histogram": [
           {
            "marker": {
             "pattern": {
              "fillmode": "overlay",
              "size": 10,
              "solidity": 0.2
             }
            },
            "type": "histogram"
           }
          ],
          "histogram2d": [
           {
            "colorbar": {
             "outlinewidth": 0,
             "ticks": ""
            },
            "colorscale": [
             [
              0,
              "#0d0887"
             ],
             [
              0.1111111111111111,
              "#46039f"
             ],
             [
              0.2222222222222222,
              "#7201a8"
             ],
             [
              0.3333333333333333,
              "#9c179e"
             ],
             [
              0.4444444444444444,
              "#bd3786"
             ],
             [
              0.5555555555555556,
              "#d8576b"
             ],
             [
              0.6666666666666666,
              "#ed7953"
             ],
             [
              0.7777777777777778,
              "#fb9f3a"
             ],
             [
              0.8888888888888888,
              "#fdca26"
             ],
             [
              1,
              "#f0f921"
             ]
            ],
            "type": "histogram2d"
           }
          ],
          "histogram2dcontour": [
           {
            "colorbar": {
             "outlinewidth": 0,
             "ticks": ""
            },
            "colorscale": [
             [
              0,
              "#0d0887"
             ],
             [
              0.1111111111111111,
              "#46039f"
             ],
             [
              0.2222222222222222,
              "#7201a8"
             ],
             [
              0.3333333333333333,
              "#9c179e"
             ],
             [
              0.4444444444444444,
              "#bd3786"
             ],
             [
              0.5555555555555556,
              "#d8576b"
             ],
             [
              0.6666666666666666,
              "#ed7953"
             ],
             [
              0.7777777777777778,
              "#fb9f3a"
             ],
             [
              0.8888888888888888,
              "#fdca26"
             ],
             [
              1,
              "#f0f921"
             ]
            ],
            "type": "histogram2dcontour"
           }
          ],
          "mesh3d": [
           {
            "colorbar": {
             "outlinewidth": 0,
             "ticks": ""
            },
            "type": "mesh3d"
           }
          ],
          "parcoords": [
           {
            "line": {
             "colorbar": {
              "outlinewidth": 0,
              "ticks": ""
             }
            },
            "type": "parcoords"
           }
          ],
          "pie": [
           {
            "automargin": true,
            "type": "pie"
           }
          ],
          "scatter": [
           {
            "fillpattern": {
             "fillmode": "overlay",
             "size": 10,
             "solidity": 0.2
            },
            "type": "scatter"
           }
          ],
          "scatter3d": [
           {
            "line": {
             "colorbar": {
              "outlinewidth": 0,
              "ticks": ""
             }
            },
            "marker": {
             "colorbar": {
              "outlinewidth": 0,
              "ticks": ""
             }
            },
            "type": "scatter3d"
           }
          ],
          "scattercarpet": [
           {
            "marker": {
             "colorbar": {
              "outlinewidth": 0,
              "ticks": ""
             }
            },
            "type": "scattercarpet"
           }
          ],
          "scattergeo": [
           {
            "marker": {
             "colorbar": {
              "outlinewidth": 0,
              "ticks": ""
             }
            },
            "type": "scattergeo"
           }
          ],
          "scattergl": [
           {
            "marker": {
             "colorbar": {
              "outlinewidth": 0,
              "ticks": ""
             }
            },
            "type": "scattergl"
           }
          ],
          "scattermapbox": [
           {
            "marker": {
             "colorbar": {
              "outlinewidth": 0,
              "ticks": ""
             }
            },
            "type": "scattermapbox"
           }
          ],
          "scatterpolar": [
           {
            "marker": {
             "colorbar": {
              "outlinewidth": 0,
              "ticks": ""
             }
            },
            "type": "scatterpolar"
           }
          ],
          "scatterpolargl": [
           {
            "marker": {
             "colorbar": {
              "outlinewidth": 0,
              "ticks": ""
             }
            },
            "type": "scatterpolargl"
           }
          ],
          "scatterternary": [
           {
            "marker": {
             "colorbar": {
              "outlinewidth": 0,
              "ticks": ""
             }
            },
            "type": "scatterternary"
           }
          ],
          "surface": [
           {
            "colorbar": {
             "outlinewidth": 0,
             "ticks": ""
            },
            "colorscale": [
             [
              0,
              "#0d0887"
             ],
             [
              0.1111111111111111,
              "#46039f"
             ],
             [
              0.2222222222222222,
              "#7201a8"
             ],
             [
              0.3333333333333333,
              "#9c179e"
             ],
             [
              0.4444444444444444,
              "#bd3786"
             ],
             [
              0.5555555555555556,
              "#d8576b"
             ],
             [
              0.6666666666666666,
              "#ed7953"
             ],
             [
              0.7777777777777778,
              "#fb9f3a"
             ],
             [
              0.8888888888888888,
              "#fdca26"
             ],
             [
              1,
              "#f0f921"
             ]
            ],
            "type": "surface"
           }
          ],
          "table": [
           {
            "cells": {
             "fill": {
              "color": "#EBF0F8"
             },
             "line": {
              "color": "white"
             }
            },
            "header": {
             "fill": {
              "color": "#C8D4E3"
             },
             "line": {
              "color": "white"
             }
            },
            "type": "table"
           }
          ]
         },
         "layout": {
          "annotationdefaults": {
           "arrowcolor": "#2a3f5f",
           "arrowhead": 0,
           "arrowwidth": 1
          },
          "autotypenumbers": "strict",
          "coloraxis": {
           "colorbar": {
            "outlinewidth": 0,
            "ticks": ""
           }
          },
          "colorscale": {
           "diverging": [
            [
             0,
             "#8e0152"
            ],
            [
             0.1,
             "#c51b7d"
            ],
            [
             0.2,
             "#de77ae"
            ],
            [
             0.3,
             "#f1b6da"
            ],
            [
             0.4,
             "#fde0ef"
            ],
            [
             0.5,
             "#f7f7f7"
            ],
            [
             0.6,
             "#e6f5d0"
            ],
            [
             0.7,
             "#b8e186"
            ],
            [
             0.8,
             "#7fbc41"
            ],
            [
             0.9,
             "#4d9221"
            ],
            [
             1,
             "#276419"
            ]
           ],
           "sequential": [
            [
             0,
             "#0d0887"
            ],
            [
             0.1111111111111111,
             "#46039f"
            ],
            [
             0.2222222222222222,
             "#7201a8"
            ],
            [
             0.3333333333333333,
             "#9c179e"
            ],
            [
             0.4444444444444444,
             "#bd3786"
            ],
            [
             0.5555555555555556,
             "#d8576b"
            ],
            [
             0.6666666666666666,
             "#ed7953"
            ],
            [
             0.7777777777777778,
             "#fb9f3a"
            ],
            [
             0.8888888888888888,
             "#fdca26"
            ],
            [
             1,
             "#f0f921"
            ]
           ],
           "sequentialminus": [
            [
             0,
             "#0d0887"
            ],
            [
             0.1111111111111111,
             "#46039f"
            ],
            [
             0.2222222222222222,
             "#7201a8"
            ],
            [
             0.3333333333333333,
             "#9c179e"
            ],
            [
             0.4444444444444444,
             "#bd3786"
            ],
            [
             0.5555555555555556,
             "#d8576b"
            ],
            [
             0.6666666666666666,
             "#ed7953"
            ],
            [
             0.7777777777777778,
             "#fb9f3a"
            ],
            [
             0.8888888888888888,
             "#fdca26"
            ],
            [
             1,
             "#f0f921"
            ]
           ]
          },
          "colorway": [
           "#636efa",
           "#EF553B",
           "#00cc96",
           "#ab63fa",
           "#FFA15A",
           "#19d3f3",
           "#FF6692",
           "#B6E880",
           "#FF97FF",
           "#FECB52"
          ],
          "font": {
           "color": "#2a3f5f"
          },
          "geo": {
           "bgcolor": "white",
           "lakecolor": "white",
           "landcolor": "#E5ECF6",
           "showlakes": true,
           "showland": true,
           "subunitcolor": "white"
          },
          "hoverlabel": {
           "align": "left"
          },
          "hovermode": "closest",
          "mapbox": {
           "style": "light"
          },
          "paper_bgcolor": "white",
          "plot_bgcolor": "#E5ECF6",
          "polar": {
           "angularaxis": {
            "gridcolor": "white",
            "linecolor": "white",
            "ticks": ""
           },
           "bgcolor": "#E5ECF6",
           "radialaxis": {
            "gridcolor": "white",
            "linecolor": "white",
            "ticks": ""
           }
          },
          "scene": {
           "xaxis": {
            "backgroundcolor": "#E5ECF6",
            "gridcolor": "white",
            "gridwidth": 2,
            "linecolor": "white",
            "showbackground": true,
            "ticks": "",
            "zerolinecolor": "white"
           },
           "yaxis": {
            "backgroundcolor": "#E5ECF6",
            "gridcolor": "white",
            "gridwidth": 2,
            "linecolor": "white",
            "showbackground": true,
            "ticks": "",
            "zerolinecolor": "white"
           },
           "zaxis": {
            "backgroundcolor": "#E5ECF6",
            "gridcolor": "white",
            "gridwidth": 2,
            "linecolor": "white",
            "showbackground": true,
            "ticks": "",
            "zerolinecolor": "white"
           }
          },
          "shapedefaults": {
           "line": {
            "color": "#2a3f5f"
           }
          },
          "ternary": {
           "aaxis": {
            "gridcolor": "white",
            "linecolor": "white",
            "ticks": ""
           },
           "baxis": {
            "gridcolor": "white",
            "linecolor": "white",
            "ticks": ""
           },
           "bgcolor": "#E5ECF6",
           "caxis": {
            "gridcolor": "white",
            "linecolor": "white",
            "ticks": ""
           }
          },
          "title": {
           "x": 0.05
          },
          "xaxis": {
           "automargin": true,
           "gridcolor": "white",
           "linecolor": "white",
           "ticks": "",
           "title": {
            "standoff": 15
           },
           "zerolinecolor": "white",
           "zerolinewidth": 2
          },
          "yaxis": {
           "automargin": true,
           "gridcolor": "white",
           "linecolor": "white",
           "ticks": "",
           "title": {
            "standoff": 15
           },
           "zerolinecolor": "white",
           "zerolinewidth": 2
          }
         }
        },
        "title": {
         "font": {
          "color": "DarkRed",
          "size": 16
         },
         "text": "Top 10 countries with the most influenza cases in Europe",
         "x": 0.5
        },
        "xaxis": {
         "anchor": "y",
         "domain": [
          0,
          1
         ],
         "title": {
          "text": "Entity"
         }
        },
        "yaxis": {
         "anchor": "x",
         "domain": [
          0,
          1
         ],
         "title": {
          "text": "rate over65"
         }
        }
       }
      }
     },
     "metadata": {},
     "output_type": "display_data"
    }
   ],
   "source": [
    "data_grippe = pd.read_csv(\"grippe2.csv\",delimiter = \",\")\n",
    "data_grippe\n",
    "\n",
    "df2 = data_grippe.sort_values(by = ['rate over65'],ascending = False).reset_index().head(10)\n",
    "\n",
    "fig1 = px.bar(df2, x = 'Entity', y = 'rate over65', color = 'rate over65',\n",
    "             color_continuous_scale = 'reds')\n",
    "\n",
    "fig1.update_layout(title = 'Top 10 countries with the most influenza cases in Europe',\n",
    "                  title_x = 0.5,\n",
    "                  title_font = dict(size = 16, color = 'DarkRed'))\n",
    "fig1.show()"
   ]
  },
  {
   "cell_type": "code",
   "execution_count": 14,
   "metadata": {},
   "outputs": [
    {
     "data": {
      "application/vnd.plotly.v1+json": {
       "config": {
        "plotlyServerURL": "https://plot.ly"
       },
       "data": [
        {
         "coloraxis": "coloraxis",
         "geo": "geo",
         "hovertemplate": "<b>%{hovertext}</b><br><br>Country/Other=%{location}<br>Total Deaths=%{z}<extra></extra>",
         "hovertext": [
          "Bulgaria",
          "Hungary",
          "Bosnia and Herzegovina",
          "North Macedonia",
          "Montenegro",
          "Croatia",
          "Czechia",
          "Slovakia",
          "Lithuania",
          "San Marino",
          "Romania",
          "Slovenia",
          "Greece",
          "Latvia",
          "Gibraltar",
          "Poland",
          "Italy",
          "Moldova",
          "UK",
          "Belgium",
          "Russia",
          "Ukraine",
          "Portugal",
          "Spain",
          "France",
          "Austria",
          "Liechtenstein",
          "Sweden",
          "Estonia",
          "Andorra",
          "Serbia",
          "Germany",
          "Malta",
          "Luxembourg",
          "Ireland",
          "Switzerland",
          "Monaco",
          "Finland",
          "Denmark",
          "Isle of Man",
          "Netherlands",
          "Albania",
          "Channel Islands",
          "Norway",
          "Belarus",
          "Iceland",
          "Faeroe Islands"
         ],
         "locationmode": "country names",
         "locations": [
          "Bulgaria",
          "Hungary",
          "Bosnia and Herzegovina",
          "North Macedonia",
          "Montenegro",
          "Croatia",
          "Czechia",
          "Slovakia",
          "Lithuania",
          "San Marino",
          "Romania",
          "Slovenia",
          "Greece",
          "Latvia",
          "Gibraltar",
          "Poland",
          "Italy",
          "Moldova",
          "UK",
          "Belgium",
          "Russia",
          "Ukraine",
          "Portugal",
          "Spain",
          "France",
          "Austria",
          "Liechtenstein",
          "Sweden",
          "Estonia",
          "Andorra",
          "Serbia",
          "Germany",
          "Malta",
          "Luxembourg",
          "Ireland",
          "Switzerland",
          "Monaco",
          "Finland",
          "Denmark",
          "Isle of Man",
          "Netherlands",
          "Albania",
          "Channel Islands",
          "Norway",
          "Belarus",
          "Iceland",
          "Faeroe Islands"
         ],
         "name": "",
         "type": "choropleth",
         "z": [
          38154,
          48629,
          16244,
          9633,
          2794,
          17790,
          42269,
          20894,
          9525,
          121,
          67504,
          7039,
          34779,
          6203,
          111,
          118675,
          185993,
          11947,
          202157,
          33478,
          394569,
          110920,
          25805,
          117759,
          163644,
          21589,
          88,
          22610,
          2896,
          165,
          17630,
          164391,
          822,
          1133,
          8431,
          14451,
          65,
          8557,
          7982,
          116,
          22989,
          3595,
          220,
          4571,
          7118,
          229,
          28
         ]
        }
       ],
       "layout": {
        "coloraxis": {
         "colorbar": {
          "title": {
           "text": "Total Deaths"
          }
         },
         "colorscale": [
          [
           0,
           "rgb(255,245,240)"
          ],
          [
           0.125,
           "rgb(254,224,210)"
          ],
          [
           0.25,
           "rgb(252,187,161)"
          ],
          [
           0.375,
           "rgb(252,146,114)"
          ],
          [
           0.5,
           "rgb(251,106,74)"
          ],
          [
           0.625,
           "rgb(239,59,44)"
          ],
          [
           0.75,
           "rgb(203,24,29)"
          ],
          [
           0.875,
           "rgb(165,15,21)"
          ],
          [
           1,
           "rgb(103,0,13)"
          ]
         ]
        },
        "geo": {
         "center": {},
         "domain": {
          "x": [
           0,
           1
          ],
          "y": [
           0,
           1
          ]
         },
         "projection": {
          "type": "equirectangular"
         },
         "scope": "europe",
         "showcoastlines": false,
         "showframe": false
        },
        "legend": {
         "tracegroupgap": 0
        },
        "margin": {
         "t": 60
        },
        "template": {
         "data": {
          "bar": [
           {
            "error_x": {
             "color": "#2a3f5f"
            },
            "error_y": {
             "color": "#2a3f5f"
            },
            "marker": {
             "line": {
              "color": "#E5ECF6",
              "width": 0.5
             },
             "pattern": {
              "fillmode": "overlay",
              "size": 10,
              "solidity": 0.2
             }
            },
            "type": "bar"
           }
          ],
          "barpolar": [
           {
            "marker": {
             "line": {
              "color": "#E5ECF6",
              "width": 0.5
             },
             "pattern": {
              "fillmode": "overlay",
              "size": 10,
              "solidity": 0.2
             }
            },
            "type": "barpolar"
           }
          ],
          "carpet": [
           {
            "aaxis": {
             "endlinecolor": "#2a3f5f",
             "gridcolor": "white",
             "linecolor": "white",
             "minorgridcolor": "white",
             "startlinecolor": "#2a3f5f"
            },
            "baxis": {
             "endlinecolor": "#2a3f5f",
             "gridcolor": "white",
             "linecolor": "white",
             "minorgridcolor": "white",
             "startlinecolor": "#2a3f5f"
            },
            "type": "carpet"
           }
          ],
          "choropleth": [
           {
            "colorbar": {
             "outlinewidth": 0,
             "ticks": ""
            },
            "type": "choropleth"
           }
          ],
          "contour": [
           {
            "colorbar": {
             "outlinewidth": 0,
             "ticks": ""
            },
            "colorscale": [
             [
              0,
              "#0d0887"
             ],
             [
              0.1111111111111111,
              "#46039f"
             ],
             [
              0.2222222222222222,
              "#7201a8"
             ],
             [
              0.3333333333333333,
              "#9c179e"
             ],
             [
              0.4444444444444444,
              "#bd3786"
             ],
             [
              0.5555555555555556,
              "#d8576b"
             ],
             [
              0.6666666666666666,
              "#ed7953"
             ],
             [
              0.7777777777777778,
              "#fb9f3a"
             ],
             [
              0.8888888888888888,
              "#fdca26"
             ],
             [
              1,
              "#f0f921"
             ]
            ],
            "type": "contour"
           }
          ],
          "contourcarpet": [
           {
            "colorbar": {
             "outlinewidth": 0,
             "ticks": ""
            },
            "type": "contourcarpet"
           }
          ],
          "heatmap": [
           {
            "colorbar": {
             "outlinewidth": 0,
             "ticks": ""
            },
            "colorscale": [
             [
              0,
              "#0d0887"
             ],
             [
              0.1111111111111111,
              "#46039f"
             ],
             [
              0.2222222222222222,
              "#7201a8"
             ],
             [
              0.3333333333333333,
              "#9c179e"
             ],
             [
              0.4444444444444444,
              "#bd3786"
             ],
             [
              0.5555555555555556,
              "#d8576b"
             ],
             [
              0.6666666666666666,
              "#ed7953"
             ],
             [
              0.7777777777777778,
              "#fb9f3a"
             ],
             [
              0.8888888888888888,
              "#fdca26"
             ],
             [
              1,
              "#f0f921"
             ]
            ],
            "type": "heatmap"
           }
          ],
          "heatmapgl": [
           {
            "colorbar": {
             "outlinewidth": 0,
             "ticks": ""
            },
            "colorscale": [
             [
              0,
              "#0d0887"
             ],
             [
              0.1111111111111111,
              "#46039f"
             ],
             [
              0.2222222222222222,
              "#7201a8"
             ],
             [
              0.3333333333333333,
              "#9c179e"
             ],
             [
              0.4444444444444444,
              "#bd3786"
             ],
             [
              0.5555555555555556,
              "#d8576b"
             ],
             [
              0.6666666666666666,
              "#ed7953"
             ],
             [
              0.7777777777777778,
              "#fb9f3a"
             ],
             [
              0.8888888888888888,
              "#fdca26"
             ],
             [
              1,
              "#f0f921"
             ]
            ],
            "type": "heatmapgl"
           }
          ],
          "histogram": [
           {
            "marker": {
             "pattern": {
              "fillmode": "overlay",
              "size": 10,
              "solidity": 0.2
             }
            },
            "type": "histogram"
           }
          ],
          "histogram2d": [
           {
            "colorbar": {
             "outlinewidth": 0,
             "ticks": ""
            },
            "colorscale": [
             [
              0,
              "#0d0887"
             ],
             [
              0.1111111111111111,
              "#46039f"
             ],
             [
              0.2222222222222222,
              "#7201a8"
             ],
             [
              0.3333333333333333,
              "#9c179e"
             ],
             [
              0.4444444444444444,
              "#bd3786"
             ],
             [
              0.5555555555555556,
              "#d8576b"
             ],
             [
              0.6666666666666666,
              "#ed7953"
             ],
             [
              0.7777777777777778,
              "#fb9f3a"
             ],
             [
              0.8888888888888888,
              "#fdca26"
             ],
             [
              1,
              "#f0f921"
             ]
            ],
            "type": "histogram2d"
           }
          ],
          "histogram2dcontour": [
           {
            "colorbar": {
             "outlinewidth": 0,
             "ticks": ""
            },
            "colorscale": [
             [
              0,
              "#0d0887"
             ],
             [
              0.1111111111111111,
              "#46039f"
             ],
             [
              0.2222222222222222,
              "#7201a8"
             ],
             [
              0.3333333333333333,
              "#9c179e"
             ],
             [
              0.4444444444444444,
              "#bd3786"
             ],
             [
              0.5555555555555556,
              "#d8576b"
             ],
             [
              0.6666666666666666,
              "#ed7953"
             ],
             [
              0.7777777777777778,
              "#fb9f3a"
             ],
             [
              0.8888888888888888,
              "#fdca26"
             ],
             [
              1,
              "#f0f921"
             ]
            ],
            "type": "histogram2dcontour"
           }
          ],
          "mesh3d": [
           {
            "colorbar": {
             "outlinewidth": 0,
             "ticks": ""
            },
            "type": "mesh3d"
           }
          ],
          "parcoords": [
           {
            "line": {
             "colorbar": {
              "outlinewidth": 0,
              "ticks": ""
             }
            },
            "type": "parcoords"
           }
          ],
          "pie": [
           {
            "automargin": true,
            "type": "pie"
           }
          ],
          "scatter": [
           {
            "fillpattern": {
             "fillmode": "overlay",
             "size": 10,
             "solidity": 0.2
            },
            "type": "scatter"
           }
          ],
          "scatter3d": [
           {
            "line": {
             "colorbar": {
              "outlinewidth": 0,
              "ticks": ""
             }
            },
            "marker": {
             "colorbar": {
              "outlinewidth": 0,
              "ticks": ""
             }
            },
            "type": "scatter3d"
           }
          ],
          "scattercarpet": [
           {
            "marker": {
             "colorbar": {
              "outlinewidth": 0,
              "ticks": ""
             }
            },
            "type": "scattercarpet"
           }
          ],
          "scattergeo": [
           {
            "marker": {
             "colorbar": {
              "outlinewidth": 0,
              "ticks": ""
             }
            },
            "type": "scattergeo"
           }
          ],
          "scattergl": [
           {
            "marker": {
             "colorbar": {
              "outlinewidth": 0,
              "ticks": ""
             }
            },
            "type": "scattergl"
           }
          ],
          "scattermapbox": [
           {
            "marker": {
             "colorbar": {
              "outlinewidth": 0,
              "ticks": ""
             }
            },
            "type": "scattermapbox"
           }
          ],
          "scatterpolar": [
           {
            "marker": {
             "colorbar": {
              "outlinewidth": 0,
              "ticks": ""
             }
            },
            "type": "scatterpolar"
           }
          ],
          "scatterpolargl": [
           {
            "marker": {
             "colorbar": {
              "outlinewidth": 0,
              "ticks": ""
             }
            },
            "type": "scatterpolargl"
           }
          ],
          "scatterternary": [
           {
            "marker": {
             "colorbar": {
              "outlinewidth": 0,
              "ticks": ""
             }
            },
            "type": "scatterternary"
           }
          ],
          "surface": [
           {
            "colorbar": {
             "outlinewidth": 0,
             "ticks": ""
            },
            "colorscale": [
             [
              0,
              "#0d0887"
             ],
             [
              0.1111111111111111,
              "#46039f"
             ],
             [
              0.2222222222222222,
              "#7201a8"
             ],
             [
              0.3333333333333333,
              "#9c179e"
             ],
             [
              0.4444444444444444,
              "#bd3786"
             ],
             [
              0.5555555555555556,
              "#d8576b"
             ],
             [
              0.6666666666666666,
              "#ed7953"
             ],
             [
              0.7777777777777778,
              "#fb9f3a"
             ],
             [
              0.8888888888888888,
              "#fdca26"
             ],
             [
              1,
              "#f0f921"
             ]
            ],
            "type": "surface"
           }
          ],
          "table": [
           {
            "cells": {
             "fill": {
              "color": "#EBF0F8"
             },
             "line": {
              "color": "white"
             }
            },
            "header": {
             "fill": {
              "color": "#C8D4E3"
             },
             "line": {
              "color": "white"
             }
            },
            "type": "table"
           }
          ]
         },
         "layout": {
          "annotationdefaults": {
           "arrowcolor": "#2a3f5f",
           "arrowhead": 0,
           "arrowwidth": 1
          },
          "autotypenumbers": "strict",
          "coloraxis": {
           "colorbar": {
            "outlinewidth": 0,
            "ticks": ""
           }
          },
          "colorscale": {
           "diverging": [
            [
             0,
             "#8e0152"
            ],
            [
             0.1,
             "#c51b7d"
            ],
            [
             0.2,
             "#de77ae"
            ],
            [
             0.3,
             "#f1b6da"
            ],
            [
             0.4,
             "#fde0ef"
            ],
            [
             0.5,
             "#f7f7f7"
            ],
            [
             0.6,
             "#e6f5d0"
            ],
            [
             0.7,
             "#b8e186"
            ],
            [
             0.8,
             "#7fbc41"
            ],
            [
             0.9,
             "#4d9221"
            ],
            [
             1,
             "#276419"
            ]
           ],
           "sequential": [
            [
             0,
             "#0d0887"
            ],
            [
             0.1111111111111111,
             "#46039f"
            ],
            [
             0.2222222222222222,
             "#7201a8"
            ],
            [
             0.3333333333333333,
             "#9c179e"
            ],
            [
             0.4444444444444444,
             "#bd3786"
            ],
            [
             0.5555555555555556,
             "#d8576b"
            ],
            [
             0.6666666666666666,
             "#ed7953"
            ],
            [
             0.7777777777777778,
             "#fb9f3a"
            ],
            [
             0.8888888888888888,
             "#fdca26"
            ],
            [
             1,
             "#f0f921"
            ]
           ],
           "sequentialminus": [
            [
             0,
             "#0d0887"
            ],
            [
             0.1111111111111111,
             "#46039f"
            ],
            [
             0.2222222222222222,
             "#7201a8"
            ],
            [
             0.3333333333333333,
             "#9c179e"
            ],
            [
             0.4444444444444444,
             "#bd3786"
            ],
            [
             0.5555555555555556,
             "#d8576b"
            ],
            [
             0.6666666666666666,
             "#ed7953"
            ],
            [
             0.7777777777777778,
             "#fb9f3a"
            ],
            [
             0.8888888888888888,
             "#fdca26"
            ],
            [
             1,
             "#f0f921"
            ]
           ]
          },
          "colorway": [
           "#636efa",
           "#EF553B",
           "#00cc96",
           "#ab63fa",
           "#FFA15A",
           "#19d3f3",
           "#FF6692",
           "#B6E880",
           "#FF97FF",
           "#FECB52"
          ],
          "font": {
           "color": "#2a3f5f"
          },
          "geo": {
           "bgcolor": "white",
           "lakecolor": "white",
           "landcolor": "#E5ECF6",
           "showlakes": true,
           "showland": true,
           "subunitcolor": "white"
          },
          "hoverlabel": {
           "align": "left"
          },
          "hovermode": "closest",
          "mapbox": {
           "style": "light"
          },
          "paper_bgcolor": "white",
          "plot_bgcolor": "#E5ECF6",
          "polar": {
           "angularaxis": {
            "gridcolor": "white",
            "linecolor": "white",
            "ticks": ""
           },
           "bgcolor": "#E5ECF6",
           "radialaxis": {
            "gridcolor": "white",
            "linecolor": "white",
            "ticks": ""
           }
          },
          "scene": {
           "xaxis": {
            "backgroundcolor": "#E5ECF6",
            "gridcolor": "white",
            "gridwidth": 2,
            "linecolor": "white",
            "showbackground": true,
            "ticks": "",
            "zerolinecolor": "white"
           },
           "yaxis": {
            "backgroundcolor": "#E5ECF6",
            "gridcolor": "white",
            "gridwidth": 2,
            "linecolor": "white",
            "showbackground": true,
            "ticks": "",
            "zerolinecolor": "white"
           },
           "zaxis": {
            "backgroundcolor": "#E5ECF6",
            "gridcolor": "white",
            "gridwidth": 2,
            "linecolor": "white",
            "showbackground": true,
            "ticks": "",
            "zerolinecolor": "white"
           }
          },
          "shapedefaults": {
           "line": {
            "color": "#2a3f5f"
           }
          },
          "ternary": {
           "aaxis": {
            "gridcolor": "white",
            "linecolor": "white",
            "ticks": ""
           },
           "baxis": {
            "gridcolor": "white",
            "linecolor": "white",
            "ticks": ""
           },
           "bgcolor": "#E5ECF6",
           "caxis": {
            "gridcolor": "white",
            "linecolor": "white",
            "ticks": ""
           }
          },
          "title": {
           "x": 0.05
          },
          "xaxis": {
           "automargin": true,
           "gridcolor": "white",
           "linecolor": "white",
           "ticks": "",
           "title": {
            "standoff": 15
           },
           "zerolinecolor": "white",
           "zerolinewidth": 2
          },
          "yaxis": {
           "automargin": true,
           "gridcolor": "white",
           "linecolor": "white",
           "ticks": "",
           "title": {
            "standoff": 15
           },
           "zerolinecolor": "white",
           "zerolinewidth": 2
          }
         }
        },
        "title": {
         "font": {
          "color": "Darkred",
          "size": 16
         },
         "text": "COVID-19 Deaths in European Countries",
         "x": 0.5
        }
       }
      }
     },
     "metadata": {},
     "output_type": "display_data"
    }
   ],
   "source": [
    "\n",
    "import pandas as pd\n",
    "import plotly.express as px\n",
    "\n",
    "data = pd.read_csv(\"europe_covid.csv\", delimiter=\",\")\n",
    "\n",
    "\n",
    "df1 = data.sort_values(by=['Deaths/ 1M pop'],ascending = False).reset_index()\n",
    "\n",
    "fig = px.choropleth(df1,\n",
    "                    locations='Country/Other',\n",
    "                    locationmode='country names',\n",
    "                    color='Total Deaths',\n",
    "                    scope='europe',\n",
    "                    hover_name='Country/Other',\n",
    "                    color_continuous_scale='reds')\n",
    "\n",
    "\n",
    "fig.update_layout(title= 'COVID-19 Deaths in European Countries',\n",
    "                  title_x = 0.5,\n",
    "                  title_font = dict(size = 16, color = 'Darkred'),\n",
    "                  geo = dict(showframe = False,\n",
    "                             showcoastlines = False,\n",
    "                             projection_type = 'equirectangular'))\n",
    "fig.show()\n"
   ]
  }
 ],
 "metadata": {
  "interpreter": {
   "hash": "aee8b7b246df8f9039afb4144a1f6fd8d2ca17a180786b69acc140d282b71a49"
  },
  "kernelspec": {
   "display_name": "Python 3.11.0 64-bit",
   "name": "python3"
  },
  "language_info": {
   "codemirror_mode": {
    "name": "ipython",
    "version": 3
   },
   "file_extension": ".py",
   "mimetype": "text/x-python",
   "name": "python",
   "nbconvert_exporter": "python",
   "pygments_lexer": "ipython3",
   "version": "3.9.13"
  },
  "orig_nbformat": 4
 },
 "nbformat": 4,
 "nbformat_minor": 2
}
